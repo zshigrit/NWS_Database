{
 "cells": [
  {
   "cell_type": "code",
   "execution_count": null,
   "id": "d5bc13ec",
   "metadata": {
    "slideshow": {
     "slide_type": "skip"
    }
   },
   "outputs": [],
   "source": [
    "# using SQLite\n",
    "using DataFrames\n",
    "import XLSX \n",
    "using TableIO\n",
    "using Plots \n",
    "using CSV"
   ]
  },
  {
   "cell_type": "code",
   "execution_count": 36,
   "id": "527e5754",
   "metadata": {
    "slideshow": {
     "slide_type": "skip"
    }
   },
   "outputs": [
    {
     "data": {
      "text/plain": [
       "SQLite.DB(\"NWS.db\")"
      ]
     },
     "execution_count": 36,
     "metadata": {},
     "output_type": "execute_result"
    }
   ],
   "source": [
    "\n",
    "NWS = SQLite.DB(\"NWS.db\")\n"
   ]
  },
  {
   "cell_type": "markdown",
   "id": "bb8d7635",
   "metadata": {
    "slideshow": {
     "slide_type": "slide"
    }
   },
   "source": [
    "## SQL \n",
    "## Structured query language is designed for managing data held in a relational database management system"
   ]
  },
  {
   "cell_type": "code",
   "execution_count": 38,
   "id": "0f884c5c",
   "metadata": {
    "scrolled": true,
    "slideshow": {
     "slide_type": "slide"
    }
   },
   "outputs": [
    {
     "data": {
      "text/html": [
       "<div class=\"data-frame\"><p>4 rows × 2 columns</p><table class=\"data-frame\"><thead><tr><th></th><th>name</th><th>schema</th></tr><tr><th></th><th title=\"String\">String</th><th title=\"Tables.Schema\">Schema</th></tr></thead><tbody><tr><th>1</th><td>SoilRespiration</td><td>Tables.Schema:\\n :DeepShallow      Any\\n :PlotID           Any\\n :Side             Any\\n :Samples          Any\\n :Warming          Any\\n :Precipitation    Any\\n :Clipping         Any\\n :MeasurementDate  Any\\n :SoilRespiration  Any</td></tr><tr><th>2</th><td>SoilMoisture</td><td>Tables.Schema:\\n :PlotID           Any\\n :Side             Any\\n :Warming          Any\\n :Precipitation    Any\\n :Clipping         Any\\n :Samples          Any\\n :MeasurementDate  Any\\n :Moisture1        Any\\n :Moisture2        Any\\n :Moisture3        Any</td></tr><tr><th>3</th><td>ANPP</td><td>Tables.Schema:\\n :PlotID           Any\\n :Warming          Any\\n :Precipitation    Any\\n :FunctionalGroup  Any\\n :Year             Any\\n :Biomass          Any</td></tr><tr><th>4</th><td>NEE</td><td>Tables.Schema:\\n :PlotID           Any\\n :Side             Any\\n :Warming          Any\\n :Precipitation    Any\\n :Clipping         Any\\n :MeasurementDate  Any\\n :NEE              Any</td></tr></tbody></table></div>"
      ],
      "text/latex": [
       "\\begin{tabular}{r|cc}\n",
       "\t& name & schema\\\\\n",
       "\t\\hline\n",
       "\t& String & Schema\\\\\n",
       "\t\\hline\n",
       "\t1 & SoilRespiration & Tables.Schema:\\textbackslash{}n :DeepShallow      Any\\textbackslash{}n :PlotID           Any\\textbackslash{}n :Side             Any\\textbackslash{}n :Samples          Any\\textbackslash{}n :Warming          Any\\textbackslash{}n :Precipitation    Any\\textbackslash{}n :Clipping         Any\\textbackslash{}n :MeasurementDate  Any\\textbackslash{}n :SoilRespiration  Any \\\\\n",
       "\t2 & SoilMoisture & Tables.Schema:\\textbackslash{}n :PlotID           Any\\textbackslash{}n :Side             Any\\textbackslash{}n :Warming          Any\\textbackslash{}n :Precipitation    Any\\textbackslash{}n :Clipping         Any\\textbackslash{}n :Samples          Any\\textbackslash{}n :MeasurementDate  Any\\textbackslash{}n :Moisture1        Any\\textbackslash{}n :Moisture2        Any\\textbackslash{}n :Moisture3        Any \\\\\n",
       "\t3 & ANPP & Tables.Schema:\\textbackslash{}n :PlotID           Any\\textbackslash{}n :Warming          Any\\textbackslash{}n :Precipitation    Any\\textbackslash{}n :FunctionalGroup  Any\\textbackslash{}n :Year             Any\\textbackslash{}n :Biomass          Any \\\\\n",
       "\t4 & NEE & Tables.Schema:\\textbackslash{}n :PlotID           Any\\textbackslash{}n :Side             Any\\textbackslash{}n :Warming          Any\\textbackslash{}n :Precipitation    Any\\textbackslash{}n :Clipping         Any\\textbackslash{}n :MeasurementDate  Any\\textbackslash{}n :NEE              Any \\\\\n",
       "\\end{tabular}\n"
      ],
      "text/plain": [
       "\u001b[1m4×2 DataFrame\u001b[0m\n",
       "\u001b[1m Row \u001b[0m│\u001b[1m name            \u001b[0m\u001b[1m schema                            \u001b[0m\n",
       "\u001b[1m     \u001b[0m│\u001b[90m String          \u001b[0m\u001b[90m Schema                            \u001b[0m\n",
       "─────┼────────────────────────────────────────────────────\n",
       "   1 │ SoilRespiration  Tables.Schema:\\n :DeepShallow   …\n",
       "   2 │ SoilMoisture     Tables.Schema:\\n :PlotID        …\n",
       "   3 │ ANPP             Tables.Schema:\\n :PlotID        …\n",
       "   4 │ NEE              Tables.Schema:\\n :PlotID        …"
      ]
     },
     "execution_count": 38,
     "metadata": {},
     "output_type": "execute_result"
    }
   ],
   "source": [
    "##* check all tables\n",
    "NWS = SQLite.DB(\"NWS.db\")\n",
    "SQLite.tables(NWS)|>DataFrame "
   ]
  },
  {
   "cell_type": "code",
   "execution_count": 39,
   "id": "e8ddaaac",
   "metadata": {
    "scrolled": true,
    "slideshow": {
     "slide_type": "slide"
    }
   },
   "outputs": [
    {
     "data": {
      "text/plain": [
       "4-element Vector{SQLite.DBTable}:\n",
       " SQLite.DBTable(\"SoilRespiration\", Tables.Schema:\n",
       " :DeepShallow      Any\n",
       " :PlotID           Any\n",
       " :Side             Any\n",
       " :Samples          Any\n",
       " :Warming          Any\n",
       " :Precipitation    Any\n",
       " :Clipping         Any\n",
       " :MeasurementDate  Any\n",
       " :SoilRespiration  Any)\n",
       " SQLite.DBTable(\"SoilMoisture\", Tables.Schema:\n",
       " :PlotID           Any\n",
       " :Side             Any\n",
       " :Warming          Any\n",
       " :Precipitation    Any\n",
       " :Clipping         Any\n",
       " :Samples          Any\n",
       " :MeasurementDate  Any\n",
       " :Moisture1        Any\n",
       " :Moisture2        Any\n",
       " :Moisture3        Any)\n",
       " SQLite.DBTable(\"ANPP\", Tables.Schema:\n",
       " :PlotID           Any\n",
       " :Warming          Any\n",
       " :Precipitation    Any\n",
       " :FunctionalGroup  Any\n",
       " :Year             Any\n",
       " :Biomass          Any)\n",
       " SQLite.DBTable(\"NEE\", Tables.Schema:\n",
       " :PlotID           Any\n",
       " :Side             Any\n",
       " :Warming          Any\n",
       " :Precipitation    Any\n",
       " :Clipping         Any\n",
       " :MeasurementDate  Any\n",
       " :NEE              Any)"
      ]
     },
     "execution_count": 39,
     "metadata": {},
     "output_type": "execute_result"
    }
   ],
   "source": [
    "##* check all tables\n",
    "SQLite.tables(NWS)"
   ]
  },
  {
   "cell_type": "code",
   "execution_count": null,
   "id": "bd36f391",
   "metadata": {
    "slideshow": {
     "slide_type": "skip"
    }
   },
   "outputs": [],
   "source": [
    "## read in data as dataframe\n",
    "\n",
    "df_SR   = DataFrame(XLSX.readtable(\"soil_respiration_2020_2021_2022.xlsx\",\"Sheet1\")...)\n",
    "df_SM   = DataFrame(XLSX.readtable(\"soil_moisture_2020_2021_2022.xlsx\",\"Sheet1\")...)\n",
    "# df_ST   = DataFrame(XLSX.readtable(\"soil_temperature.xlsx\",\"Sheet1\")...)\n",
    "df_ANPP = DataFrame(XLSX.readtable(\"ANPP_clipped.xlsx\",\"Sheet1\")...)\n",
    "# df_ER   = DataFrame(XLSX.readtable(\"ER.xlsx\",\"Sheet1\")...)\n",
    "df_NEE  = DataFrame(XLSX.readtable(\"NEE.xlsx\",\"Sheet1\")...)\n",
    "# df_PSC  = DataFrame(XLSX.readtable(\"plant_species.xlsx\",\"Sheet1\")...)\n"
   ]
  },
  {
   "cell_type": "code",
   "execution_count": 21,
   "id": "c19663dd",
   "metadata": {
    "slideshow": {
     "slide_type": "skip"
    }
   },
   "outputs": [],
   "source": [
    "## writing dataframe into different tables \n",
    "## \"SoilRespiration\",\"SoilTemperature\",\"SoilMoisture\",\"ANPP\",\"GPP\",\"ER\" etc\n",
    "\n",
    "\n",
    "write_table!(\"NWS.db\", \"SoilRespiration\", df_SR)\n",
    "# write_table!(\"NWS.db\", \"SoilTemperature\", df_ST)\n",
    "write_table!(\"NWS.db\", \"SoilMoisture\", df_SM)\n",
    "write_table!(\"NWS.db\", \"ANPP\", df_ANPP)\n",
    "write_table!(\"NWS.db\", \"NEE\", df_NEE)\n",
    "# write_table!(\"NWS.db\", \"ER\", df_ER)\n",
    "# write_table!(\"NWS.db\", \"SpeciesComposition\", df_PSC)\n"
   ]
  },
  {
   "cell_type": "markdown",
   "id": "fa8cdf9b",
   "metadata": {
    "slideshow": {
     "slide_type": "slide"
    }
   },
   "source": [
    "## View all columns in a table"
   ]
  },
  {
   "cell_type": "code",
   "execution_count": 40,
   "id": "6a1614da",
   "metadata": {
    "scrolled": true,
    "slideshow": {
     "slide_type": "fragment"
    }
   },
   "outputs": [
    {
     "name": "stdout",
     "output_type": "stream",
     "text": [
      "\u001b[1m1152×9 DataFrame\u001b[0m\n",
      "\u001b[1m  Row \u001b[0m│\u001b[1m DeepShallow \u001b[0m\u001b[1m PlotID \u001b[0m\u001b[1m Side   \u001b[0m\u001b[1m Samples \u001b[0m\u001b[1m Warming \u001b[0m\u001b[1m Precipitation \u001b[0m\u001b[1m Clipping \u001b[0m\u001b[1m MeasurementDate \u001b[0m\u001b[1m SoilRespiration \u001b[0m\n",
      "\u001b[1m      \u001b[0m│\u001b[90m String      \u001b[0m\u001b[90m Int64  \u001b[0m\u001b[90m String \u001b[0m\u001b[90m String  \u001b[0m\u001b[90m String  \u001b[0m\u001b[90m String        \u001b[0m\u001b[90m String   \u001b[0m\u001b[90m Int64           \u001b[0m\u001b[90m Any             \u001b[0m\n",
      "──────┼──────────────────────────────────────────────────────────────────────────────────────────────────────────\n",
      "    1 │ d                 1  north   1nd      W        C              No               20200202  3.0\n",
      "    2 │ s                 1  north   1ns      W        C              No               20200202  8.2\n",
      "    3 │ d                 1  south   1sd      W        C              Yes              20200202  4.6\n",
      "    4 │ s                 1  south   1ss      W        C              Yes              20200202  5.63\n",
      "    5 │ d                 2  north   2nd      W        H              No               20200202  2.15\n",
      "    6 │ s                 2  north   2ns      W        H              No               20200202  2.3\n",
      "    7 │ d                 2  south   2sd      W        H              Yes              20200202  1.62\n",
      "    8 │ s                 2  south   2ss      W        H              Yes              20200202  5.59\n",
      "    9 │ d                 3  north   3nd      C        C              No               20200202  1.82\n",
      "   10 │ s                 3  north   3ns      C        C              No               20200202  4.73\n",
      "   11 │ d                 3  south   3sd      C        C              Yes              20200202  1.34\n",
      "  ⋮   │      ⋮         ⋮       ⋮        ⋮        ⋮           ⋮           ⋮             ⋮                ⋮\n",
      " 1143 │ d                22  south   22sd     W        D              Yes              20210223  1.46\n",
      " 1144 │ s                22  south   22ss     W        D              Yes              20210223  11.52\n",
      " 1145 │ d                23  north   23nd     C        C              No               20210223  0.71\n",
      " 1146 │ s                23  north   23ns     C        C              No               20210223  1.55\n",
      " 1147 │ d                23  south   23sd     C        C              Yes              20210223  0.32\n",
      " 1148 │ s                23  south   23ss     C        C              Yes              20210223  2.07\n",
      " 1149 │ d                24  north   24nd     C        H              No               20210223  0.45\n",
      " 1150 │ s                24  north   24ns     C        H              No               20210223  2.8\n",
      " 1151 │ d                24  south   24sd     C        H              Yes              20210223  1.49\n",
      " 1152 │ s                24  south   24ss     C        H              Yes              20210223  1.59\n",
      "\u001b[36m                                                                                                1131 rows omitted\u001b[0m"
     ]
    }
   ],
   "source": [
    "q = \"SELECT * FROM SoilRespiration\"\n",
    "df = DataFrame(SQLite.DBInterface.execute(NWS,q))\n",
    "show(df,allcols=true)"
   ]
  },
  {
   "cell_type": "code",
   "execution_count": 106,
   "id": "22a5c764",
   "metadata": {
    "scrolled": true,
    "slideshow": {
     "slide_type": "slide"
    }
   },
   "outputs": [
    {
     "name": "stdout",
     "output_type": "stream",
     "text": [
      "\u001b[1m480×10 DataFrame\u001b[0m\n",
      "\u001b[1m Row \u001b[0m│\u001b[1m PlotID \u001b[0m\u001b[1m Side   \u001b[0m\u001b[1m Warming \u001b[0m\u001b[1m Precipitation \u001b[0m\u001b[1m Clipping \u001b[0m\u001b[1m Samples       \u001b[0m\u001b[1m MeasurementDate \u001b[0m\u001b[1m Moisture1 \u001b[0m\u001b[1m Moisture2 \u001b[0m\u001b[1m Moisture3 \u001b[0m\n",
      "\u001b[1m     \u001b[0m│\u001b[90m Int64  \u001b[0m\u001b[90m String \u001b[0m\u001b[90m String  \u001b[0m\u001b[90m String        \u001b[0m\u001b[90m String   \u001b[0m\u001b[90m String        \u001b[0m\u001b[90m Int64           \u001b[0m\u001b[90m Float64   \u001b[0m\u001b[90m Float64   \u001b[0m\u001b[90m Float64   \u001b[0m\n",
      "─────┼───────────────────────────────────────────────────────────────────────────────────────────────────────────────────\n",
      "   1 │      1  north   W        C              No        X22_1N_H_N_1          20200202       19.9       16.9       20.3\n",
      "   2 │      1  south   W        C              Yes       X22_1S_H_C_1          20200202       21.0       26.4       21.0\n",
      "   3 │      2  north   W        H              No        X22_2N_H_N_0          20200202       15.6       17.8       19.6\n",
      "   4 │      2  south   W        H              Yes       X22_2S_H_C_0          20200202       12.3       15.6       14.2\n",
      "   5 │      3  north   C        C              No        X22_3N_N_N_1          20200202       20.3       23.6       21.4\n",
      "   6 │      3  south   C        C              Yes       X22_3S_N_C_1          20200202       22.5       23.9       14.5\n",
      "   7 │      4  north   W        D              No        X22_4N_H_N_2          20200202       23.2       17.4       16.3\n",
      "   8 │      4  south   W        D              Yes       X22_4S_H_C_2          20200202       17.8       21.0       29.7\n",
      "   9 │      5  north   W        H              No        X22_5N_H_N_0          20200202       18.1       17.0       16.3\n",
      "  10 │      5  south   W        H              Yes       X22_5S_H_C_0          20200202       14.5       16.3       17.0\n",
      "  11 │      6  north   C        C              No        X22_6N_N_N_1          20200202       20.3       13.4       21.4\n",
      "  ⋮  │   ⋮       ⋮        ⋮           ⋮           ⋮            ⋮               ⋮             ⋮          ⋮          ⋮\n",
      " 471 │     20  north   W        C              No        X22_20N_H_N_1         20210119       19.2       25.0       29.0\n",
      " 472 │     20  south   W        C              Yes       X22_20S_H_C_1         20210119       23.6       21.4       24.6\n",
      " 473 │     21  north   W        D              No        X22_21N_H_N_2         20210119       28.6       26.1       27.2\n",
      " 474 │     21  south   W        D              Yes       X22_21S_H_C_2         20210119       27.9       26.4       30.1\n",
      " 475 │     22  north   W        D              No        X22_22N_H_N_2         20210119       21.4       22.8       23.2\n",
      " 476 │     22  south   W        D              Yes       X22_22S_H_C_2         20210119       27.5       27.2       25.0\n",
      " 477 │     23  north   C        C              No        X22_23N_N_N_1         20210119       29.7       27.9       33.0\n",
      " 478 │     23  south   C        C              Yes       X22_23S_N_C_1         20210119       32.2       27.2       27.9\n",
      " 479 │     24  north   C        H              No        X22_24N_N_N_0         20210119       35.8       25.4       27.9\n",
      " 480 │     24  south   C        H              Yes       X22_24S_N_C_0         20210119       33.7       28.6       33.7\n",
      "\u001b[36m                                                                                                         459 rows omitted\u001b[0m"
     ]
    }
   ],
   "source": [
    "q = \"SELECT * FROM SoilMoisture\"\n",
    "df = DataFrame(SQLite.DBInterface.execute(NWS,q))\n",
    "show(df,allcols=true)"
   ]
  },
  {
   "cell_type": "markdown",
   "id": "2d2ee0aa",
   "metadata": {
    "slideshow": {
     "slide_type": "slide"
    }
   },
   "source": [
    "## View selected columns in a table"
   ]
  },
  {
   "cell_type": "code",
   "execution_count": 109,
   "id": "bd841aed",
   "metadata": {
    "scrolled": true,
    "slideshow": {
     "slide_type": "fragment"
    }
   },
   "outputs": [
    {
     "data": {
      "text/html": [
       "<div class=\"data-frame\"><p>480 rows × 3 columns</p><table class=\"data-frame\"><thead><tr><th></th><th>Warming</th><th>Precipitation</th><th>Moisture1</th></tr><tr><th></th><th title=\"String\">String</th><th title=\"String\">String</th><th title=\"Float64\">Float64</th></tr></thead><tbody><tr><th>1</th><td>W</td><td>C</td><td>19.9</td></tr><tr><th>2</th><td>W</td><td>C</td><td>21.0</td></tr><tr><th>3</th><td>W</td><td>H</td><td>15.6</td></tr><tr><th>4</th><td>W</td><td>H</td><td>12.3</td></tr><tr><th>5</th><td>C</td><td>C</td><td>20.3</td></tr><tr><th>6</th><td>C</td><td>C</td><td>22.5</td></tr><tr><th>7</th><td>W</td><td>D</td><td>23.2</td></tr><tr><th>8</th><td>W</td><td>D</td><td>17.8</td></tr><tr><th>9</th><td>W</td><td>H</td><td>18.1</td></tr><tr><th>10</th><td>W</td><td>H</td><td>14.5</td></tr><tr><th>11</th><td>C</td><td>C</td><td>20.3</td></tr><tr><th>12</th><td>C</td><td>C</td><td>20.7</td></tr><tr><th>13</th><td>W</td><td>D</td><td>18.9</td></tr><tr><th>14</th><td>W</td><td>D</td><td>19.2</td></tr><tr><th>15</th><td>C</td><td>H</td><td>19.2</td></tr><tr><th>16</th><td>C</td><td>H</td><td>26.1</td></tr><tr><th>17</th><td>C</td><td>D</td><td>21.4</td></tr><tr><th>18</th><td>C</td><td>D</td><td>23.2</td></tr><tr><th>19</th><td>W</td><td>C</td><td>23.2</td></tr><tr><th>20</th><td>W</td><td>C</td><td>13.4</td></tr><tr><th>21</th><td>C</td><td>H</td><td>23.6</td></tr><tr><th>22</th><td>C</td><td>H</td><td>25.4</td></tr><tr><th>23</th><td>C</td><td>D</td><td>23.9</td></tr><tr><th>24</th><td>C</td><td>D</td><td>13.4</td></tr><tr><th>25</th><td>C</td><td>H</td><td>31.5</td></tr><tr><th>26</th><td>C</td><td>H</td><td>26.1</td></tr><tr><th>27</th><td>C</td><td>D</td><td>28.6</td></tr><tr><th>28</th><td>C</td><td>D</td><td>30.1</td></tr><tr><th>29</th><td>W</td><td>H</td><td>18.5</td></tr><tr><th>30</th><td>W</td><td>H</td><td>19.6</td></tr><tr><th>&vellip;</th><td>&vellip;</td><td>&vellip;</td><td>&vellip;</td></tr></tbody></table></div>"
      ],
      "text/latex": [
       "\\begin{tabular}{r|ccc}\n",
       "\t& Warming & Precipitation & Moisture1\\\\\n",
       "\t\\hline\n",
       "\t& String & String & Float64\\\\\n",
       "\t\\hline\n",
       "\t1 & W & C & 19.9 \\\\\n",
       "\t2 & W & C & 21.0 \\\\\n",
       "\t3 & W & H & 15.6 \\\\\n",
       "\t4 & W & H & 12.3 \\\\\n",
       "\t5 & C & C & 20.3 \\\\\n",
       "\t6 & C & C & 22.5 \\\\\n",
       "\t7 & W & D & 23.2 \\\\\n",
       "\t8 & W & D & 17.8 \\\\\n",
       "\t9 & W & H & 18.1 \\\\\n",
       "\t10 & W & H & 14.5 \\\\\n",
       "\t11 & C & C & 20.3 \\\\\n",
       "\t12 & C & C & 20.7 \\\\\n",
       "\t13 & W & D & 18.9 \\\\\n",
       "\t14 & W & D & 19.2 \\\\\n",
       "\t15 & C & H & 19.2 \\\\\n",
       "\t16 & C & H & 26.1 \\\\\n",
       "\t17 & C & D & 21.4 \\\\\n",
       "\t18 & C & D & 23.2 \\\\\n",
       "\t19 & W & C & 23.2 \\\\\n",
       "\t20 & W & C & 13.4 \\\\\n",
       "\t21 & C & H & 23.6 \\\\\n",
       "\t22 & C & H & 25.4 \\\\\n",
       "\t23 & C & D & 23.9 \\\\\n",
       "\t24 & C & D & 13.4 \\\\\n",
       "\t25 & C & H & 31.5 \\\\\n",
       "\t26 & C & H & 26.1 \\\\\n",
       "\t27 & C & D & 28.6 \\\\\n",
       "\t28 & C & D & 30.1 \\\\\n",
       "\t29 & W & H & 18.5 \\\\\n",
       "\t30 & W & H & 19.6 \\\\\n",
       "\t$\\dots$ & $\\dots$ & $\\dots$ & $\\dots$ \\\\\n",
       "\\end{tabular}\n"
      ],
      "text/plain": [
       "\u001b[1m480×3 DataFrame\u001b[0m\n",
       "\u001b[1m Row \u001b[0m│\u001b[1m Warming \u001b[0m\u001b[1m Precipitation \u001b[0m\u001b[1m Moisture1 \u001b[0m\n",
       "\u001b[1m     \u001b[0m│\u001b[90m String  \u001b[0m\u001b[90m String        \u001b[0m\u001b[90m Float64   \u001b[0m\n",
       "─────┼───────────────────────────────────\n",
       "   1 │ W        C                   19.9\n",
       "   2 │ W        C                   21.0\n",
       "   3 │ W        H                   15.6\n",
       "   4 │ W        H                   12.3\n",
       "   5 │ C        C                   20.3\n",
       "   6 │ C        C                   22.5\n",
       "   7 │ W        D                   23.2\n",
       "   8 │ W        D                   17.8\n",
       "   9 │ W        H                   18.1\n",
       "  10 │ W        H                   14.5\n",
       "  11 │ C        C                   20.3\n",
       "  ⋮  │    ⋮           ⋮            ⋮\n",
       " 471 │ W        C                   19.2\n",
       " 472 │ W        C                   23.6\n",
       " 473 │ W        D                   28.6\n",
       " 474 │ W        D                   27.9\n",
       " 475 │ W        D                   21.4\n",
       " 476 │ W        D                   27.5\n",
       " 477 │ C        C                   29.7\n",
       " 478 │ C        C                   32.2\n",
       " 479 │ C        H                   35.8\n",
       " 480 │ C        H                   33.7\n",
       "\u001b[36m                         459 rows omitted\u001b[0m"
      ]
     },
     "execution_count": 109,
     "metadata": {},
     "output_type": "execute_result"
    }
   ],
   "source": [
    "q = \"SELECT Warming, Precipitation, Moisture1\n",
    "     FROM SoilMoisture\"\n",
    "\n",
    "DataFrame(SQLite.DBInterface.execute(NWS,\n",
    "q))\n",
    "\n",
    "# CSV.write(\"test1.csv\", df)"
   ]
  },
  {
   "cell_type": "markdown",
   "id": "50e9bc97",
   "metadata": {
    "slideshow": {
     "slide_type": "slide"
    }
   },
   "source": [
    "## Filter data using multiple search condition"
   ]
  },
  {
   "cell_type": "code",
   "execution_count": 110,
   "id": "206f9845",
   "metadata": {
    "scrolled": true,
    "slideshow": {
     "slide_type": "fragment"
    }
   },
   "outputs": [
    {
     "name": "stdout",
     "output_type": "stream",
     "text": [
      "\u001b[1m12×10 DataFrame\u001b[0m\n",
      "\u001b[1m Row \u001b[0m│\u001b[1m PlotID \u001b[0m\u001b[1m Side   \u001b[0m\u001b[1m Warming \u001b[0m\u001b[1m Precipitation \u001b[0m\u001b[1m Clipping \u001b[0m\u001b[1m Samples       \u001b[0m\u001b[1m MeasurementDate \u001b[0m\u001b[1m Moisture1 \u001b[0m\u001b[1m Moisture2 \u001b[0m\u001b[1m Moisture3 \u001b[0m\n",
      "\u001b[1m     \u001b[0m│\u001b[90m Int64  \u001b[0m\u001b[90m String \u001b[0m\u001b[90m String  \u001b[0m\u001b[90m String        \u001b[0m\u001b[90m String   \u001b[0m\u001b[90m String        \u001b[0m\u001b[90m Int64           \u001b[0m\u001b[90m Float64   \u001b[0m\u001b[90m Float64   \u001b[0m\u001b[90m Float64   \u001b[0m\n",
      "─────┼───────────────────────────────────────────────────────────────────────────────────────────────────────────────────\n",
      "   1 │      1  south   W        C              Yes       X22_1S_H_C_1          20200520        8.9        7.3        9.5\n",
      "   2 │      2  south   W        H              Yes       X22_2S_H_C_0          20200520       10.2       10.4        9.3\n",
      "   3 │      4  south   W        D              Yes       X22_4S_H_C_2          20200520       15.1       13.1       11.8\n",
      "   4 │      5  south   W        H              Yes       X22_5S_H_C_0          20200520       11.8        9.9        7.7\n",
      "   5 │      7  south   W        D              Yes       X22_7S_H_C_2          20200520       12.4       14.3       10.6\n",
      "   6 │     10  south   W        C              Yes       X22_10S_H_C_1         20200520       16.2       10.4        9.1\n",
      "   7 │     15  south   W        H              Yes       X22_15S_H_C_0         20200520       11.3       18.9       15.6\n",
      "   8 │     16  south   W        C              Yes       X22_16S_H_C_1         20200520       23.6       15.6       19.6\n",
      "   9 │     18  south   W        H              Yes       X22_18S_H_C_0         20200520       18.1       14.9       14.9\n",
      "  10 │     20  south   W        C              Yes       X22_20S_H_C_1         20200520       19.2       23.6       27.9\n",
      "  11 │     21  south   W        D              Yes       X22_21S_H_C_2         20200520       13.8       22.1       20.7\n",
      "  12 │     22  south   W        D              Yes       X22_22S_H_C_2         20200520       24.3       26.4       19.6"
     ]
    }
   ],
   "source": [
    "q = (\n",
    "\"SELECT * \n",
    " FROM SoilMoisture \n",
    " WHERE Warming = 'W' and\n",
    "       Clipping = 'Yes' and \n",
    "       MeasurementDate >=20200500 and \n",
    "       MeasurementDate <=20200600 \")\n",
    "\n",
    "df = DataFrame(SQLite.DBInterface.execute(NWS,q))\n",
    "show(df,allcols=true)\n",
    "\n",
    "# CSV.write(\"test1.csv\", df)"
   ]
  },
  {
   "cell_type": "markdown",
   "id": "b0510852",
   "metadata": {
    "slideshow": {
     "slide_type": "slide"
    }
   },
   "source": [
    "## Filter data using multiple search condition and plotting"
   ]
  },
  {
   "cell_type": "code",
   "execution_count": 91,
   "id": "093368fd",
   "metadata": {
    "slideshow": {
     "slide_type": "fragment"
    }
   },
   "outputs": [
    {
     "data": {
      "image/svg+xml": [
       "<?xml version=\"1.0\" encoding=\"utf-8\"?>\n",
       "<svg xmlns=\"http://www.w3.org/2000/svg\" xmlns:xlink=\"http://www.w3.org/1999/xlink\" width=\"600\" height=\"400\" viewBox=\"0 0 2400 1600\">\n",
       "<defs>\n",
       "  <clipPath id=\"clip8300\">\n",
       "    <rect x=\"0\" y=\"0\" width=\"2400\" height=\"1600\"/>\n",
       "  </clipPath>\n",
       "</defs>\n",
       "<path clip-path=\"url(#clip8300)\" d=\"\n",
       "M0 1600 L2400 1600 L2400 0 L0 0  Z\n",
       "  \" fill=\"#ffffff\" fill-rule=\"evenodd\" fill-opacity=\"1\"/>\n",
       "<defs>\n",
       "  <clipPath id=\"clip8301\">\n",
       "    <rect x=\"480\" y=\"0\" width=\"1681\" height=\"1600\"/>\n",
       "  </clipPath>\n",
       "</defs>\n",
       "<path clip-path=\"url(#clip8300)\" d=\"\n",
       "M136.76 1486.45 L2352.76 1486.45 L2352.76 47.2441 L136.76 47.2441  Z\n",
       "  \" fill=\"#ffffff\" fill-rule=\"evenodd\" fill-opacity=\"1\"/>\n",
       "<defs>\n",
       "  <clipPath id=\"clip8302\">\n",
       "    <rect x=\"136\" y=\"47\" width=\"2217\" height=\"1440\"/>\n",
       "  </clipPath>\n",
       "</defs>\n",
       "<polyline clip-path=\"url(#clip8302)\" style=\"stroke:#000000; stroke-width:2; stroke-opacity:0.1; fill:none\" points=\"\n",
       "  298.341,1486.45 298.341,47.2441 \n",
       "  \"/>\n",
       "<polyline clip-path=\"url(#clip8302)\" style=\"stroke:#000000; stroke-width:2; stroke-opacity:0.1; fill:none\" points=\"\n",
       "  813.258,1486.45 813.258,47.2441 \n",
       "  \"/>\n",
       "<polyline clip-path=\"url(#clip8302)\" style=\"stroke:#000000; stroke-width:2; stroke-opacity:0.1; fill:none\" points=\"\n",
       "  1328.17,1486.45 1328.17,47.2441 \n",
       "  \"/>\n",
       "<polyline clip-path=\"url(#clip8302)\" style=\"stroke:#000000; stroke-width:2; stroke-opacity:0.1; fill:none\" points=\"\n",
       "  1843.09,1486.45 1843.09,47.2441 \n",
       "  \"/>\n",
       "<polyline clip-path=\"url(#clip8302)\" style=\"stroke:#000000; stroke-width:2; stroke-opacity:0.1; fill:none\" points=\"\n",
       "  136.76,1387.65 2352.76,1387.65 \n",
       "  \"/>\n",
       "<polyline clip-path=\"url(#clip8302)\" style=\"stroke:#000000; stroke-width:2; stroke-opacity:0.1; fill:none\" points=\"\n",
       "  136.76,1164.34 2352.76,1164.34 \n",
       "  \"/>\n",
       "<polyline clip-path=\"url(#clip8302)\" style=\"stroke:#000000; stroke-width:2; stroke-opacity:0.1; fill:none\" points=\"\n",
       "  136.76,941.03 2352.76,941.03 \n",
       "  \"/>\n",
       "<polyline clip-path=\"url(#clip8302)\" style=\"stroke:#000000; stroke-width:2; stroke-opacity:0.1; fill:none\" points=\"\n",
       "  136.76,717.717 2352.76,717.717 \n",
       "  \"/>\n",
       "<polyline clip-path=\"url(#clip8302)\" style=\"stroke:#000000; stroke-width:2; stroke-opacity:0.1; fill:none\" points=\"\n",
       "  136.76,494.405 2352.76,494.405 \n",
       "  \"/>\n",
       "<polyline clip-path=\"url(#clip8302)\" style=\"stroke:#000000; stroke-width:2; stroke-opacity:0.1; fill:none\" points=\"\n",
       "  136.76,271.092 2352.76,271.092 \n",
       "  \"/>\n",
       "<polyline clip-path=\"url(#clip8302)\" style=\"stroke:#000000; stroke-width:2; stroke-opacity:0.1; fill:none\" points=\"\n",
       "  136.76,47.78 2352.76,47.78 \n",
       "  \"/>\n",
       "<polyline clip-path=\"url(#clip8300)\" style=\"stroke:#000000; stroke-width:4; stroke-opacity:1; fill:none\" points=\"\n",
       "  136.76,1486.45 2352.76,1486.45 \n",
       "  \"/>\n",
       "<polyline clip-path=\"url(#clip8300)\" style=\"stroke:#000000; stroke-width:4; stroke-opacity:1; fill:none\" points=\"\n",
       "  136.76,1486.45 136.76,47.2441 \n",
       "  \"/>\n",
       "<polyline clip-path=\"url(#clip8300)\" style=\"stroke:#000000; stroke-width:4; stroke-opacity:1; fill:none\" points=\"\n",
       "  298.341,1486.45 298.341,1469.18 \n",
       "  \"/>\n",
       "<polyline clip-path=\"url(#clip8300)\" style=\"stroke:#000000; stroke-width:4; stroke-opacity:1; fill:none\" points=\"\n",
       "  813.258,1486.45 813.258,1469.18 \n",
       "  \"/>\n",
       "<polyline clip-path=\"url(#clip8300)\" style=\"stroke:#000000; stroke-width:4; stroke-opacity:1; fill:none\" points=\"\n",
       "  1328.17,1486.45 1328.17,1469.18 \n",
       "  \"/>\n",
       "<polyline clip-path=\"url(#clip8300)\" style=\"stroke:#000000; stroke-width:4; stroke-opacity:1; fill:none\" points=\"\n",
       "  1843.09,1486.45 1843.09,1469.18 \n",
       "  \"/>\n",
       "<polyline clip-path=\"url(#clip8300)\" style=\"stroke:#000000; stroke-width:4; stroke-opacity:1; fill:none\" points=\"\n",
       "  136.76,1387.65 163.352,1387.65 \n",
       "  \"/>\n",
       "<polyline clip-path=\"url(#clip8300)\" style=\"stroke:#000000; stroke-width:4; stroke-opacity:1; fill:none\" points=\"\n",
       "  136.76,1164.34 163.352,1164.34 \n",
       "  \"/>\n",
       "<polyline clip-path=\"url(#clip8300)\" style=\"stroke:#000000; stroke-width:4; stroke-opacity:1; fill:none\" points=\"\n",
       "  136.76,941.03 163.352,941.03 \n",
       "  \"/>\n",
       "<polyline clip-path=\"url(#clip8300)\" style=\"stroke:#000000; stroke-width:4; stroke-opacity:1; fill:none\" points=\"\n",
       "  136.76,717.717 163.352,717.717 \n",
       "  \"/>\n",
       "<polyline clip-path=\"url(#clip8300)\" style=\"stroke:#000000; stroke-width:4; stroke-opacity:1; fill:none\" points=\"\n",
       "  136.76,494.405 163.352,494.405 \n",
       "  \"/>\n",
       "<polyline clip-path=\"url(#clip8300)\" style=\"stroke:#000000; stroke-width:4; stroke-opacity:1; fill:none\" points=\"\n",
       "  136.76,271.092 163.352,271.092 \n",
       "  \"/>\n",
       "<polyline clip-path=\"url(#clip8300)\" style=\"stroke:#000000; stroke-width:4; stroke-opacity:1; fill:none\" points=\"\n",
       "  136.76,47.78 163.352,47.78 \n",
       "  \"/>\n",
       "<path clip-path=\"url(#clip8300)\" d=\"M 0 0 M200.541 1535.98 L216.86 1535.98 L216.86 1539.92 L194.916 1539.92 L194.916 1535.98 Q197.578 1533.23 202.161 1528.6 Q206.768 1523.95 207.948 1522.61 Q210.194 1520.08 211.073 1518.35 Q211.976 1516.59 211.976 1514.9 Q211.976 1512.14 210.032 1510.41 Q208.11 1508.67 205.008 1508.67 Q202.809 1508.67 200.356 1509.43 Q197.925 1510.2 195.147 1511.75 L195.147 1507.03 Q197.971 1505.89 200.425 1505.31 Q202.879 1504.73 204.916 1504.73 Q210.286 1504.73 213.481 1507.42 Q216.675 1510.11 216.675 1514.6 Q216.675 1516.73 215.865 1518.65 Q215.078 1520.54 212.971 1523.14 Q212.393 1523.81 209.291 1527.03 Q206.189 1530.22 200.541 1535.98 Z\" fill=\"#000000\" fill-rule=\"evenodd\" fill-opacity=\"1\" /><path clip-path=\"url(#clip8300)\" d=\"M 0 0 M231.93 1508.44 Q228.318 1508.44 226.49 1512 Q224.684 1515.55 224.684 1522.67 Q224.684 1529.78 226.49 1533.35 Q228.318 1536.89 231.93 1536.89 Q235.564 1536.89 237.369 1533.35 Q239.198 1529.78 239.198 1522.67 Q239.198 1515.55 237.369 1512 Q235.564 1508.44 231.93 1508.44 M231.93 1504.73 Q237.74 1504.73 240.795 1509.34 Q243.874 1513.92 243.874 1522.67 Q243.874 1531.4 240.795 1536.01 Q237.74 1540.59 231.93 1540.59 Q226.119 1540.59 223.041 1536.01 Q219.985 1531.4 219.985 1522.67 Q219.985 1513.92 223.041 1509.34 Q226.119 1504.73 231.93 1504.73 Z\" fill=\"#000000\" fill-rule=\"evenodd\" fill-opacity=\"1\" /><path clip-path=\"url(#clip8300)\" d=\"M 0 0 M252.971 1535.98 L269.29 1535.98 L269.29 1539.92 L247.346 1539.92 L247.346 1535.98 Q250.008 1533.23 254.591 1528.6 Q259.198 1523.95 260.378 1522.61 Q262.624 1520.08 263.503 1518.35 Q264.406 1516.59 264.406 1514.9 Q264.406 1512.14 262.462 1510.41 Q260.541 1508.67 257.439 1508.67 Q255.24 1508.67 252.786 1509.43 Q250.355 1510.2 247.578 1511.75 L247.578 1507.03 Q250.402 1505.89 252.855 1505.31 Q255.309 1504.73 257.346 1504.73 Q262.716 1504.73 265.911 1507.42 Q269.105 1510.11 269.105 1514.6 Q269.105 1516.73 268.295 1518.65 Q267.508 1520.54 265.402 1523.14 Q264.823 1523.81 261.721 1527.03 Q258.619 1530.22 252.971 1535.98 Z\" fill=\"#000000\" fill-rule=\"evenodd\" fill-opacity=\"1\" /><path clip-path=\"url(#clip8300)\" d=\"M 0 0 M284.36 1508.44 Q280.749 1508.44 278.92 1512 Q277.115 1515.55 277.115 1522.67 Q277.115 1529.78 278.92 1533.35 Q280.749 1536.89 284.36 1536.89 Q287.994 1536.89 289.8 1533.35 Q291.628 1529.78 291.628 1522.67 Q291.628 1515.55 289.8 1512 Q287.994 1508.44 284.36 1508.44 M284.36 1504.73 Q290.17 1504.73 293.226 1509.34 Q296.304 1513.92 296.304 1522.67 Q296.304 1531.4 293.226 1536.01 Q290.17 1540.59 284.36 1540.59 Q278.55 1540.59 275.471 1536.01 Q272.415 1531.4 272.415 1522.67 Q272.415 1513.92 275.471 1509.34 Q278.55 1504.73 284.36 1504.73 Z\" fill=\"#000000\" fill-rule=\"evenodd\" fill-opacity=\"1\" /><path clip-path=\"url(#clip8300)\" d=\"M 0 0 M311.374 1508.44 Q307.762 1508.44 305.934 1512 Q304.128 1515.55 304.128 1522.67 Q304.128 1529.78 305.934 1533.35 Q307.762 1536.89 311.374 1536.89 Q315.008 1536.89 316.813 1533.35 Q318.642 1529.78 318.642 1522.67 Q318.642 1515.55 316.813 1512 Q315.008 1508.44 311.374 1508.44 M311.374 1504.73 Q317.184 1504.73 320.239 1509.34 Q323.318 1513.92 323.318 1522.67 Q323.318 1531.4 320.239 1536.01 Q317.184 1540.59 311.374 1540.59 Q305.563 1540.59 302.485 1536.01 Q299.429 1531.4 299.429 1522.67 Q299.429 1513.92 302.485 1509.34 Q305.563 1504.73 311.374 1504.73 Z\" fill=\"#000000\" fill-rule=\"evenodd\" fill-opacity=\"1\" /><path clip-path=\"url(#clip8300)\" d=\"M 0 0 M332.415 1535.98 L348.734 1535.98 L348.734 1539.92 L326.79 1539.92 L326.79 1535.98 Q329.452 1533.23 334.035 1528.6 Q338.642 1523.95 339.822 1522.61 Q342.068 1520.08 342.947 1518.35 Q343.85 1516.59 343.85 1514.9 Q343.85 1512.14 341.906 1510.41 Q339.985 1508.67 336.883 1508.67 Q334.684 1508.67 332.23 1509.43 Q329.799 1510.2 327.022 1511.75 L327.022 1507.03 Q329.846 1505.89 332.299 1505.31 Q334.753 1504.73 336.79 1504.73 Q342.16 1504.73 345.355 1507.42 Q348.549 1510.11 348.549 1514.6 Q348.549 1516.73 347.739 1518.65 Q346.952 1520.54 344.846 1523.14 Q344.267 1523.81 341.165 1527.03 Q338.063 1530.22 332.415 1535.98 Z\" fill=\"#000000\" fill-rule=\"evenodd\" fill-opacity=\"1\" /><path clip-path=\"url(#clip8300)\" d=\"M 0 0 M353.85 1505.36 L372.207 1505.36 L372.207 1509.3 L358.133 1509.3 L358.133 1517.77 Q359.151 1517.42 360.17 1517.26 Q361.188 1517.07 362.207 1517.07 Q367.994 1517.07 371.373 1520.24 Q374.753 1523.42 374.753 1528.83 Q374.753 1534.41 371.281 1537.51 Q367.808 1540.59 361.489 1540.59 Q359.313 1540.59 357.045 1540.22 Q354.799 1539.85 352.392 1539.11 L352.392 1534.41 Q354.475 1535.54 356.697 1536.1 Q358.92 1536.66 361.396 1536.66 Q365.401 1536.66 367.739 1534.55 Q370.077 1532.44 370.077 1528.83 Q370.077 1525.22 367.739 1523.11 Q365.401 1521.01 361.396 1521.01 Q359.521 1521.01 357.646 1521.42 Q355.795 1521.84 353.85 1522.72 L353.85 1505.36 Z\" fill=\"#000000\" fill-rule=\"evenodd\" fill-opacity=\"1\" /><path clip-path=\"url(#clip8300)\" d=\"M 0 0 M389.822 1508.44 Q386.211 1508.44 384.382 1512 Q382.577 1515.55 382.577 1522.67 Q382.577 1529.78 384.382 1533.35 Q386.211 1536.89 389.822 1536.89 Q393.456 1536.89 395.262 1533.35 Q397.091 1529.78 397.091 1522.67 Q397.091 1515.55 395.262 1512 Q393.456 1508.44 389.822 1508.44 M389.822 1504.73 Q395.632 1504.73 398.688 1509.34 Q401.767 1513.92 401.767 1522.67 Q401.767 1531.4 398.688 1536.01 Q395.632 1540.59 389.822 1540.59 Q384.012 1540.59 380.933 1536.01 Q377.878 1531.4 377.878 1522.67 Q377.878 1513.92 380.933 1509.34 Q384.012 1504.73 389.822 1504.73 Z\" fill=\"#000000\" fill-rule=\"evenodd\" fill-opacity=\"1\" /><path clip-path=\"url(#clip8300)\" d=\"M 0 0 M714.659 1535.98 L730.978 1535.98 L730.978 1539.92 L709.034 1539.92 L709.034 1535.98 Q711.696 1533.23 716.279 1528.6 Q720.886 1523.95 722.066 1522.61 Q724.312 1520.08 725.191 1518.35 Q726.094 1516.59 726.094 1514.9 Q726.094 1512.14 724.15 1510.41 Q722.228 1508.67 719.127 1508.67 Q716.927 1508.67 714.474 1509.43 Q712.043 1510.2 709.265 1511.75 L709.265 1507.03 Q712.09 1505.89 714.543 1505.31 Q716.997 1504.73 719.034 1504.73 Q724.404 1504.73 727.599 1507.42 Q730.793 1510.11 730.793 1514.6 Q730.793 1516.73 729.983 1518.65 Q729.196 1520.54 727.089 1523.14 Q726.511 1523.81 723.409 1527.03 Q720.307 1530.22 714.659 1535.98 Z\" fill=\"#000000\" fill-rule=\"evenodd\" fill-opacity=\"1\" /><path clip-path=\"url(#clip8300)\" d=\"M 0 0 M746.048 1508.44 Q742.437 1508.44 740.608 1512 Q738.802 1515.55 738.802 1522.67 Q738.802 1529.78 740.608 1533.35 Q742.437 1536.89 746.048 1536.89 Q749.682 1536.89 751.487 1533.35 Q753.316 1529.78 753.316 1522.67 Q753.316 1515.55 751.487 1512 Q749.682 1508.44 746.048 1508.44 M746.048 1504.73 Q751.858 1504.73 754.913 1509.34 Q757.992 1513.92 757.992 1522.67 Q757.992 1531.4 754.913 1536.01 Q751.858 1540.59 746.048 1540.59 Q740.238 1540.59 737.159 1536.01 Q734.103 1531.4 734.103 1522.67 Q734.103 1513.92 737.159 1509.34 Q740.238 1504.73 746.048 1504.73 Z\" fill=\"#000000\" fill-rule=\"evenodd\" fill-opacity=\"1\" /><path clip-path=\"url(#clip8300)\" d=\"M 0 0 M767.089 1535.98 L783.409 1535.98 L783.409 1539.92 L761.464 1539.92 L761.464 1535.98 Q764.126 1533.23 768.71 1528.6 Q773.316 1523.95 774.497 1522.61 Q776.742 1520.08 777.622 1518.35 Q778.524 1516.59 778.524 1514.9 Q778.524 1512.14 776.58 1510.41 Q774.659 1508.67 771.557 1508.67 Q769.358 1508.67 766.904 1509.43 Q764.473 1510.2 761.696 1511.75 L761.696 1507.03 Q764.52 1505.89 766.973 1505.31 Q769.427 1504.73 771.464 1504.73 Q776.835 1504.73 780.029 1507.42 Q783.223 1510.11 783.223 1514.6 Q783.223 1516.73 782.413 1518.65 Q781.626 1520.54 779.52 1523.14 Q778.941 1523.81 775.839 1527.03 Q772.737 1530.22 767.089 1535.98 Z\" fill=\"#000000\" fill-rule=\"evenodd\" fill-opacity=\"1\" /><path clip-path=\"url(#clip8300)\" d=\"M 0 0 M798.478 1508.44 Q794.867 1508.44 793.038 1512 Q791.233 1515.55 791.233 1522.67 Q791.233 1529.78 793.038 1533.35 Q794.867 1536.89 798.478 1536.89 Q802.112 1536.89 803.918 1533.35 Q805.746 1529.78 805.746 1522.67 Q805.746 1515.55 803.918 1512 Q802.112 1508.44 798.478 1508.44 M798.478 1504.73 Q804.288 1504.73 807.344 1509.34 Q810.422 1513.92 810.422 1522.67 Q810.422 1531.4 807.344 1536.01 Q804.288 1540.59 798.478 1540.59 Q792.668 1540.59 789.589 1536.01 Q786.534 1531.4 786.534 1522.67 Q786.534 1513.92 789.589 1509.34 Q792.668 1504.73 798.478 1504.73 Z\" fill=\"#000000\" fill-rule=\"evenodd\" fill-opacity=\"1\" /><path clip-path=\"url(#clip8300)\" d=\"M 0 0 M825.492 1508.44 Q821.881 1508.44 820.052 1512 Q818.246 1515.55 818.246 1522.67 Q818.246 1529.78 820.052 1533.35 Q821.881 1536.89 825.492 1536.89 Q829.126 1536.89 830.931 1533.35 Q832.76 1529.78 832.76 1522.67 Q832.76 1515.55 830.931 1512 Q829.126 1508.44 825.492 1508.44 M825.492 1504.73 Q831.302 1504.73 834.357 1509.34 Q837.436 1513.92 837.436 1522.67 Q837.436 1531.4 834.357 1536.01 Q831.302 1540.59 825.492 1540.59 Q819.682 1540.59 816.603 1536.01 Q813.547 1531.4 813.547 1522.67 Q813.547 1513.92 816.603 1509.34 Q819.682 1504.73 825.492 1504.73 Z\" fill=\"#000000\" fill-rule=\"evenodd\" fill-opacity=\"1\" /><path clip-path=\"url(#clip8300)\" d=\"M 0 0 M842.552 1505.36 L860.908 1505.36 L860.908 1509.3 L846.834 1509.3 L846.834 1517.77 Q847.853 1517.42 848.871 1517.26 Q849.89 1517.07 850.908 1517.07 Q856.695 1517.07 860.075 1520.24 Q863.454 1523.42 863.454 1528.83 Q863.454 1534.41 859.982 1537.51 Q856.51 1540.59 850.191 1540.59 Q848.015 1540.59 845.746 1540.22 Q843.501 1539.85 841.093 1539.11 L841.093 1534.41 Q843.177 1535.54 845.399 1536.1 Q847.621 1536.66 850.098 1536.66 Q854.103 1536.66 856.441 1534.55 Q858.779 1532.44 858.779 1528.83 Q858.779 1525.22 856.441 1523.11 Q854.103 1521.01 850.098 1521.01 Q848.223 1521.01 846.348 1521.42 Q844.496 1521.84 842.552 1522.72 L842.552 1505.36 Z\" fill=\"#000000\" fill-rule=\"evenodd\" fill-opacity=\"1\" /><path clip-path=\"url(#clip8300)\" d=\"M 0 0 M878.524 1508.44 Q874.913 1508.44 873.084 1512 Q871.278 1515.55 871.278 1522.67 Q871.278 1529.78 873.084 1533.35 Q874.913 1536.89 878.524 1536.89 Q882.158 1536.89 883.964 1533.35 Q885.792 1529.78 885.792 1522.67 Q885.792 1515.55 883.964 1512 Q882.158 1508.44 878.524 1508.44 M878.524 1504.73 Q884.334 1504.73 887.389 1509.34 Q890.468 1513.92 890.468 1522.67 Q890.468 1531.4 887.389 1536.01 Q884.334 1540.59 878.524 1540.59 Q872.714 1540.59 869.635 1536.01 Q866.579 1531.4 866.579 1522.67 Q866.579 1513.92 869.635 1509.34 Q872.714 1504.73 878.524 1504.73 Z\" fill=\"#000000\" fill-rule=\"evenodd\" fill-opacity=\"1\" /><path clip-path=\"url(#clip8300)\" d=\"M 0 0 M905.538 1508.44 Q901.926 1508.44 900.098 1512 Q898.292 1515.55 898.292 1522.67 Q898.292 1529.78 900.098 1533.35 Q901.926 1536.89 905.538 1536.89 Q909.172 1536.89 910.977 1533.35 Q912.806 1529.78 912.806 1522.67 Q912.806 1515.55 910.977 1512 Q909.172 1508.44 905.538 1508.44 M905.538 1504.73 Q911.348 1504.73 914.403 1509.34 Q917.482 1513.92 917.482 1522.67 Q917.482 1531.4 914.403 1536.01 Q911.348 1540.59 905.538 1540.59 Q899.727 1540.59 896.649 1536.01 Q893.593 1531.4 893.593 1522.67 Q893.593 1513.92 896.649 1509.34 Q899.727 1504.73 905.538 1504.73 Z\" fill=\"#000000\" fill-rule=\"evenodd\" fill-opacity=\"1\" /><path clip-path=\"url(#clip8300)\" d=\"M 0 0 M1230.03 1535.98 L1246.35 1535.98 L1246.35 1539.92 L1224.4 1539.92 L1224.4 1535.98 Q1227.06 1533.23 1231.65 1528.6 Q1236.25 1523.95 1237.43 1522.61 Q1239.68 1520.08 1240.56 1518.35 Q1241.46 1516.59 1241.46 1514.9 Q1241.46 1512.14 1239.52 1510.41 Q1237.6 1508.67 1234.49 1508.67 Q1232.3 1508.67 1229.84 1509.43 Q1227.41 1510.2 1224.63 1511.75 L1224.63 1507.03 Q1227.46 1505.89 1229.91 1505.31 Q1232.36 1504.73 1234.4 1504.73 Q1239.77 1504.73 1242.97 1507.42 Q1246.16 1510.11 1246.16 1514.6 Q1246.16 1516.73 1245.35 1518.65 Q1244.56 1520.54 1242.46 1523.14 Q1241.88 1523.81 1238.78 1527.03 Q1235.68 1530.22 1230.03 1535.98 Z\" fill=\"#000000\" fill-rule=\"evenodd\" fill-opacity=\"1\" /><path clip-path=\"url(#clip8300)\" d=\"M 0 0 M1261.42 1508.44 Q1257.8 1508.44 1255.98 1512 Q1254.17 1515.55 1254.17 1522.67 Q1254.17 1529.78 1255.98 1533.35 Q1257.8 1536.89 1261.42 1536.89 Q1265.05 1536.89 1266.86 1533.35 Q1268.68 1529.78 1268.68 1522.67 Q1268.68 1515.55 1266.86 1512 Q1265.05 1508.44 1261.42 1508.44 M1261.42 1504.73 Q1267.23 1504.73 1270.28 1509.34 Q1273.36 1513.92 1273.36 1522.67 Q1273.36 1531.4 1270.28 1536.01 Q1267.23 1540.59 1261.42 1540.59 Q1255.61 1540.59 1252.53 1536.01 Q1249.47 1531.4 1249.47 1522.67 Q1249.47 1513.92 1252.53 1509.34 Q1255.61 1504.73 1261.42 1504.73 Z\" fill=\"#000000\" fill-rule=\"evenodd\" fill-opacity=\"1\" /><path clip-path=\"url(#clip8300)\" d=\"M 0 0 M1282.46 1535.98 L1298.78 1535.98 L1298.78 1539.92 L1276.83 1539.92 L1276.83 1535.98 Q1279.49 1533.23 1284.08 1528.6 Q1288.68 1523.95 1289.86 1522.61 Q1292.11 1520.08 1292.99 1518.35 Q1293.89 1516.59 1293.89 1514.9 Q1293.89 1512.14 1291.95 1510.41 Q1290.03 1508.67 1286.92 1508.67 Q1284.73 1508.67 1282.27 1509.43 Q1279.84 1510.2 1277.06 1511.75 L1277.06 1507.03 Q1279.89 1505.89 1282.34 1505.31 Q1284.8 1504.73 1286.83 1504.73 Q1292.2 1504.73 1295.4 1507.42 Q1298.59 1510.11 1298.59 1514.6 Q1298.59 1516.73 1297.78 1518.65 Q1296.99 1520.54 1294.89 1523.14 Q1294.31 1523.81 1291.21 1527.03 Q1288.11 1530.22 1282.46 1535.98 Z\" fill=\"#000000\" fill-rule=\"evenodd\" fill-opacity=\"1\" /><path clip-path=\"url(#clip8300)\" d=\"M 0 0 M1313.85 1508.44 Q1310.23 1508.44 1308.41 1512 Q1306.6 1515.55 1306.6 1522.67 Q1306.6 1529.78 1308.41 1533.35 Q1310.23 1536.89 1313.85 1536.89 Q1317.48 1536.89 1319.29 1533.35 Q1321.11 1529.78 1321.11 1522.67 Q1321.11 1515.55 1319.29 1512 Q1317.48 1508.44 1313.85 1508.44 M1313.85 1504.73 Q1319.66 1504.73 1322.71 1509.34 Q1325.79 1513.92 1325.79 1522.67 Q1325.79 1531.4 1322.71 1536.01 Q1319.66 1540.59 1313.85 1540.59 Q1308.04 1540.59 1304.96 1536.01 Q1301.9 1531.4 1301.9 1522.67 Q1301.9 1513.92 1304.96 1509.34 Q1308.04 1504.73 1313.85 1504.73 Z\" fill=\"#000000\" fill-rule=\"evenodd\" fill-opacity=\"1\" /><path clip-path=\"url(#clip8300)\" d=\"M 0 0 M1340.86 1508.44 Q1337.25 1508.44 1335.42 1512 Q1333.61 1515.55 1333.61 1522.67 Q1333.61 1529.78 1335.42 1533.35 Q1337.25 1536.89 1340.86 1536.89 Q1344.49 1536.89 1346.3 1533.35 Q1348.13 1529.78 1348.13 1522.67 Q1348.13 1515.55 1346.3 1512 Q1344.49 1508.44 1340.86 1508.44 M1340.86 1504.73 Q1346.67 1504.73 1349.73 1509.34 Q1352.8 1513.92 1352.8 1522.67 Q1352.8 1531.4 1349.73 1536.01 Q1346.67 1540.59 1340.86 1540.59 Q1335.05 1540.59 1331.97 1536.01 Q1328.92 1531.4 1328.92 1522.67 Q1328.92 1513.92 1331.97 1509.34 Q1335.05 1504.73 1340.86 1504.73 Z\" fill=\"#000000\" fill-rule=\"evenodd\" fill-opacity=\"1\" /><path clip-path=\"url(#clip8300)\" d=\"M 0 0 M1356.69 1505.36 L1378.92 1505.36 L1378.92 1507.35 L1366.37 1539.92 L1361.48 1539.92 L1373.29 1509.3 L1356.69 1509.3 L1356.69 1505.36 Z\" fill=\"#000000\" fill-rule=\"evenodd\" fill-opacity=\"1\" /><path clip-path=\"url(#clip8300)\" d=\"M 0 0 M1384.03 1505.36 L1402.39 1505.36 L1402.39 1509.3 L1388.31 1509.3 L1388.31 1517.77 Q1389.33 1517.42 1390.35 1517.26 Q1391.37 1517.07 1392.39 1517.07 Q1398.17 1517.07 1401.55 1520.24 Q1404.93 1523.42 1404.93 1528.83 Q1404.93 1534.41 1401.46 1537.51 Q1397.99 1540.59 1391.67 1540.59 Q1389.49 1540.59 1387.23 1540.22 Q1384.98 1539.85 1382.57 1539.11 L1382.57 1534.41 Q1384.66 1535.54 1386.88 1536.1 Q1389.1 1536.66 1391.58 1536.66 Q1395.58 1536.66 1397.92 1534.55 Q1400.26 1532.44 1400.26 1528.83 Q1400.26 1525.22 1397.92 1523.11 Q1395.58 1521.01 1391.58 1521.01 Q1389.7 1521.01 1387.83 1521.42 Q1385.98 1521.84 1384.03 1522.72 L1384.03 1505.36 Z\" fill=\"#000000\" fill-rule=\"evenodd\" fill-opacity=\"1\" /><path clip-path=\"url(#clip8300)\" d=\"M 0 0 M1420 1508.44 Q1416.39 1508.44 1414.56 1512 Q1412.76 1515.55 1412.76 1522.67 Q1412.76 1529.78 1414.56 1533.35 Q1416.39 1536.89 1420 1536.89 Q1423.64 1536.89 1425.44 1533.35 Q1427.27 1529.78 1427.27 1522.67 Q1427.27 1515.55 1425.44 1512 Q1423.64 1508.44 1420 1508.44 M1420 1504.73 Q1425.81 1504.73 1428.87 1509.34 Q1431.95 1513.92 1431.95 1522.67 Q1431.95 1531.4 1428.87 1536.01 Q1425.81 1540.59 1420 1540.59 Q1414.19 1540.59 1411.11 1536.01 Q1408.06 1531.4 1408.06 1522.67 Q1408.06 1513.92 1411.11 1509.34 Q1414.19 1504.73 1420 1504.73 Z\" fill=\"#000000\" fill-rule=\"evenodd\" fill-opacity=\"1\" /><path clip-path=\"url(#clip8300)\" d=\"M 0 0 M1744.61 1535.98 L1760.93 1535.98 L1760.93 1539.92 L1738.98 1539.92 L1738.98 1535.98 Q1741.65 1533.23 1746.23 1528.6 Q1750.83 1523.95 1752.02 1522.61 Q1754.26 1520.08 1755.14 1518.35 Q1756.04 1516.59 1756.04 1514.9 Q1756.04 1512.14 1754.1 1510.41 Q1752.18 1508.67 1749.08 1508.67 Q1746.88 1508.67 1744.42 1509.43 Q1741.99 1510.2 1739.21 1511.75 L1739.21 1507.03 Q1742.04 1505.89 1744.49 1505.31 Q1746.95 1504.73 1748.98 1504.73 Q1754.35 1504.73 1757.55 1507.42 Q1760.74 1510.11 1760.74 1514.6 Q1760.74 1516.73 1759.93 1518.65 Q1759.15 1520.54 1757.04 1523.14 Q1756.46 1523.81 1753.36 1527.03 Q1750.26 1530.22 1744.61 1535.98 Z\" fill=\"#000000\" fill-rule=\"evenodd\" fill-opacity=\"1\" /><path clip-path=\"url(#clip8300)\" d=\"M 0 0 M1776 1508.44 Q1772.39 1508.44 1770.56 1512 Q1768.75 1515.55 1768.75 1522.67 Q1768.75 1529.78 1770.56 1533.35 Q1772.39 1536.89 1776 1536.89 Q1779.63 1536.89 1781.44 1533.35 Q1783.27 1529.78 1783.27 1522.67 Q1783.27 1515.55 1781.44 1512 Q1779.63 1508.44 1776 1508.44 M1776 1504.73 Q1781.81 1504.73 1784.86 1509.34 Q1787.94 1513.92 1787.94 1522.67 Q1787.94 1531.4 1784.86 1536.01 Q1781.81 1540.59 1776 1540.59 Q1770.19 1540.59 1767.11 1536.01 Q1764.05 1531.4 1764.05 1522.67 Q1764.05 1513.92 1767.11 1509.34 Q1770.19 1504.73 1776 1504.73 Z\" fill=\"#000000\" fill-rule=\"evenodd\" fill-opacity=\"1\" /><path clip-path=\"url(#clip8300)\" d=\"M 0 0 M1797.04 1535.98 L1813.36 1535.98 L1813.36 1539.92 L1791.41 1539.92 L1791.41 1535.98 Q1794.08 1533.23 1798.66 1528.6 Q1803.27 1523.95 1804.45 1522.61 Q1806.69 1520.08 1807.57 1518.35 Q1808.47 1516.59 1808.47 1514.9 Q1808.47 1512.14 1806.53 1510.41 Q1804.61 1508.67 1801.51 1508.67 Q1799.31 1508.67 1796.85 1509.43 Q1794.42 1510.2 1791.64 1511.75 L1791.64 1507.03 Q1794.47 1505.89 1796.92 1505.31 Q1799.38 1504.73 1801.41 1504.73 Q1806.78 1504.73 1809.98 1507.42 Q1813.17 1510.11 1813.17 1514.6 Q1813.17 1516.73 1812.36 1518.65 Q1811.58 1520.54 1809.47 1523.14 Q1808.89 1523.81 1805.79 1527.03 Q1802.69 1530.22 1797.04 1535.98 Z\" fill=\"#000000\" fill-rule=\"evenodd\" fill-opacity=\"1\" /><path clip-path=\"url(#clip8300)\" d=\"M 0 0 M1828.43 1508.44 Q1824.82 1508.44 1822.99 1512 Q1821.18 1515.55 1821.18 1522.67 Q1821.18 1529.78 1822.99 1533.35 Q1824.82 1536.89 1828.43 1536.89 Q1832.06 1536.89 1833.87 1533.35 Q1835.7 1529.78 1835.7 1522.67 Q1835.7 1515.55 1833.87 1512 Q1832.06 1508.44 1828.43 1508.44 M1828.43 1504.73 Q1834.24 1504.73 1837.29 1509.34 Q1840.37 1513.92 1840.37 1522.67 Q1840.37 1531.4 1837.29 1536.01 Q1834.24 1540.59 1828.43 1540.59 Q1822.62 1540.59 1819.54 1536.01 Q1816.48 1531.4 1816.48 1522.67 Q1816.48 1513.92 1819.54 1509.34 Q1822.62 1504.73 1828.43 1504.73 Z\" fill=\"#000000\" fill-rule=\"evenodd\" fill-opacity=\"1\" /><path clip-path=\"url(#clip8300)\" d=\"M 0 0 M1846.25 1535.98 L1853.89 1535.98 L1853.89 1509.62 L1845.58 1511.29 L1845.58 1507.03 L1853.84 1505.36 L1858.52 1505.36 L1858.52 1535.98 L1866.16 1535.98 L1866.16 1539.92 L1846.25 1539.92 L1846.25 1535.98 Z\" fill=\"#000000\" fill-rule=\"evenodd\" fill-opacity=\"1\" /><path clip-path=\"url(#clip8300)\" d=\"M 0 0 M1881.23 1508.44 Q1877.62 1508.44 1875.79 1512 Q1873.98 1515.55 1873.98 1522.67 Q1873.98 1529.78 1875.79 1533.35 Q1877.62 1536.89 1881.23 1536.89 Q1884.86 1536.89 1886.67 1533.35 Q1888.5 1529.78 1888.5 1522.67 Q1888.5 1515.55 1886.67 1512 Q1884.86 1508.44 1881.23 1508.44 M1881.23 1504.73 Q1887.04 1504.73 1890.09 1509.34 Q1893.17 1513.92 1893.17 1522.67 Q1893.17 1531.4 1890.09 1536.01 Q1887.04 1540.59 1881.23 1540.59 Q1875.42 1540.59 1872.34 1536.01 Q1869.28 1531.4 1869.28 1522.67 Q1869.28 1513.92 1872.34 1509.34 Q1875.42 1504.73 1881.23 1504.73 Z\" fill=\"#000000\" fill-rule=\"evenodd\" fill-opacity=\"1\" /><path clip-path=\"url(#clip8300)\" d=\"M 0 0 M1908.24 1508.44 Q1904.63 1508.44 1902.8 1512 Q1901 1515.55 1901 1522.67 Q1901 1529.78 1902.8 1533.35 Q1904.63 1536.89 1908.24 1536.89 Q1911.88 1536.89 1913.68 1533.35 Q1915.51 1529.78 1915.51 1522.67 Q1915.51 1515.55 1913.68 1512 Q1911.88 1508.44 1908.24 1508.44 M1908.24 1504.73 Q1914.05 1504.73 1917.11 1509.34 Q1920.19 1513.92 1920.19 1522.67 Q1920.19 1531.4 1917.11 1536.01 Q1914.05 1540.59 1908.24 1540.59 Q1902.43 1540.59 1899.35 1536.01 Q1896.3 1531.4 1896.3 1522.67 Q1896.3 1513.92 1899.35 1509.34 Q1902.43 1504.73 1908.24 1504.73 Z\" fill=\"#000000\" fill-rule=\"evenodd\" fill-opacity=\"1\" /><path clip-path=\"url(#clip8300)\" d=\"M 0 0 M1935.26 1508.44 Q1931.64 1508.44 1929.82 1512 Q1928.01 1515.55 1928.01 1522.67 Q1928.01 1529.78 1929.82 1533.35 Q1931.64 1536.89 1935.26 1536.89 Q1938.89 1536.89 1940.69 1533.35 Q1942.52 1529.78 1942.52 1522.67 Q1942.52 1515.55 1940.69 1512 Q1938.89 1508.44 1935.26 1508.44 M1935.26 1504.73 Q1941.07 1504.73 1944.12 1509.34 Q1947.2 1513.92 1947.2 1522.67 Q1947.2 1531.4 1944.12 1536.01 Q1941.07 1540.59 1935.26 1540.59 Q1929.45 1540.59 1926.37 1536.01 Q1923.31 1531.4 1923.31 1522.67 Q1923.31 1513.92 1926.37 1509.34 Q1929.45 1504.73 1935.26 1504.73 Z\" fill=\"#000000\" fill-rule=\"evenodd\" fill-opacity=\"1\" /><path clip-path=\"url(#clip8300)\" d=\"M 0 0 M91.8577 1370.37 L110.214 1370.37 L110.214 1374.31 L96.1401 1374.31 L96.1401 1382.78 Q97.1586 1382.43 98.1771 1382.27 Q99.1956 1382.09 100.214 1382.09 Q106.001 1382.09 109.381 1385.26 Q112.76 1388.43 112.76 1393.85 Q112.76 1399.43 109.288 1402.53 Q105.816 1405.61 99.4966 1405.61 Q97.3206 1405.61 95.0521 1405.24 Q92.8068 1404.87 90.3994 1404.12 L90.3994 1399.43 Q92.4827 1400.56 94.7049 1401.12 Q96.9271 1401.67 99.404 1401.67 Q103.409 1401.67 105.747 1399.56 Q108.084 1397.46 108.084 1393.85 Q108.084 1390.24 105.747 1388.13 Q103.409 1386.02 99.404 1386.02 Q97.529 1386.02 95.654 1386.44 Q93.8021 1386.86 91.8577 1387.74 L91.8577 1370.37 Z\" fill=\"#000000\" fill-rule=\"evenodd\" fill-opacity=\"1\" /><path clip-path=\"url(#clip8300)\" d=\"M 0 0 M65.8393 1177.69 L73.4782 1177.69 L73.4782 1151.32 L65.168 1152.99 L65.168 1148.73 L73.4319 1147.06 L78.1078 1147.06 L78.1078 1177.69 L85.7466 1177.69 L85.7466 1181.62 L65.8393 1181.62 L65.8393 1177.69 Z\" fill=\"#000000\" fill-rule=\"evenodd\" fill-opacity=\"1\" /><path clip-path=\"url(#clip8300)\" d=\"M 0 0 M100.816 1150.14 Q97.2049 1150.14 95.3762 1153.71 Q93.5707 1157.25 93.5707 1164.38 Q93.5707 1171.48 95.3762 1175.05 Q97.2049 1178.59 100.816 1178.59 Q104.45 1178.59 106.256 1175.05 Q108.084 1171.48 108.084 1164.38 Q108.084 1157.25 106.256 1153.71 Q104.45 1150.14 100.816 1150.14 M100.816 1146.44 Q106.626 1146.44 109.682 1151.04 Q112.76 1155.63 112.76 1164.38 Q112.76 1173.1 109.682 1177.71 Q106.626 1182.29 100.816 1182.29 Q95.0058 1182.29 91.9272 1177.71 Q88.8716 1173.1 88.8716 1164.38 Q88.8716 1155.63 91.9272 1151.04 Q95.0058 1146.44 100.816 1146.44 Z\" fill=\"#000000\" fill-rule=\"evenodd\" fill-opacity=\"1\" /><path clip-path=\"url(#clip8300)\" d=\"M 0 0 M66.8347 954.374 L74.4735 954.374 L74.4735 928.009 L66.1634 929.676 L66.1634 925.416 L74.4272 923.75 L79.1032 923.75 L79.1032 954.374 L86.742 954.374 L86.742 958.31 L66.8347 958.31 L66.8347 954.374 Z\" fill=\"#000000\" fill-rule=\"evenodd\" fill-opacity=\"1\" /><path clip-path=\"url(#clip8300)\" d=\"M 0 0 M91.8577 923.75 L110.214 923.75 L110.214 927.685 L96.1401 927.685 L96.1401 936.157 Q97.1586 935.81 98.1771 935.648 Q99.1956 935.463 100.214 935.463 Q106.001 935.463 109.381 938.634 Q112.76 941.805 112.76 947.222 Q112.76 952.8 109.288 955.902 Q105.816 958.981 99.4966 958.981 Q97.3206 958.981 95.0521 958.611 Q92.8068 958.24 90.3994 957.499 L90.3994 952.8 Q92.4827 953.935 94.7049 954.49 Q96.9271 955.046 99.404 955.046 Q103.409 955.046 105.747 952.939 Q108.084 950.833 108.084 947.222 Q108.084 943.611 105.747 941.504 Q103.409 939.398 99.404 939.398 Q97.529 939.398 95.654 939.814 Q93.8021 940.231 91.8577 941.111 L91.8577 923.75 Z\" fill=\"#000000\" fill-rule=\"evenodd\" fill-opacity=\"1\" /><path clip-path=\"url(#clip8300)\" d=\"M 0 0 M69.4273 731.062 L85.7466 731.062 L85.7466 734.997 L63.8023 734.997 L63.8023 731.062 Q66.4643 728.307 71.0476 723.678 Q75.6541 719.025 76.8346 717.683 Q79.08 715.159 79.9596 713.423 Q80.8624 711.664 80.8624 709.974 Q80.8624 707.22 78.918 705.484 Q76.9967 703.747 73.8948 703.747 Q71.6958 703.747 69.2421 704.511 Q66.8115 705.275 64.0338 706.826 L64.0338 702.104 Q66.8578 700.97 69.3115 700.391 Q71.7652 699.812 73.8023 699.812 Q79.1726 699.812 82.367 702.497 Q85.5614 705.183 85.5614 709.673 Q85.5614 711.803 84.7513 713.724 Q83.9642 715.622 81.8578 718.215 Q81.2791 718.886 78.1772 722.104 Q75.0754 725.298 69.4273 731.062 Z\" fill=\"#000000\" fill-rule=\"evenodd\" fill-opacity=\"1\" /><path clip-path=\"url(#clip8300)\" d=\"M 0 0 M100.816 703.516 Q97.2049 703.516 95.3762 707.081 Q93.5707 710.622 93.5707 717.752 Q93.5707 724.858 95.3762 728.423 Q97.2049 731.965 100.816 731.965 Q104.45 731.965 106.256 728.423 Q108.084 724.858 108.084 717.752 Q108.084 710.622 106.256 707.081 Q104.45 703.516 100.816 703.516 M100.816 699.812 Q106.626 699.812 109.682 704.419 Q112.76 709.002 112.76 717.752 Q112.76 726.479 109.682 731.085 Q106.626 735.669 100.816 735.669 Q95.0058 735.669 91.9272 731.085 Q88.8716 726.479 88.8716 717.752 Q88.8716 709.002 91.9272 704.419 Q95.0058 699.812 100.816 699.812 Z\" fill=\"#000000\" fill-rule=\"evenodd\" fill-opacity=\"1\" /><path clip-path=\"url(#clip8300)\" d=\"M 0 0 M70.4226 507.75 L86.742 507.75 L86.742 511.685 L64.7977 511.685 L64.7977 507.75 Q67.4597 504.995 72.043 500.365 Q76.6495 495.713 77.83 494.37 Q80.0754 491.847 80.955 490.111 Q81.8578 488.352 81.8578 486.662 Q81.8578 483.907 79.9133 482.171 Q77.992 480.435 74.8902 480.435 Q72.6911 480.435 70.2375 481.199 Q67.8069 481.963 65.0292 483.514 L65.0292 478.792 Q67.8532 477.657 70.3069 477.079 Q72.7606 476.5 74.7976 476.5 Q80.168 476.5 83.3624 479.185 Q86.5568 481.87 86.5568 486.361 Q86.5568 488.491 85.7466 490.412 Q84.9596 492.31 82.8531 494.903 Q82.2744 495.574 79.1726 498.791 Q76.0708 501.986 70.4226 507.75 Z\" fill=\"#000000\" fill-rule=\"evenodd\" fill-opacity=\"1\" /><path clip-path=\"url(#clip8300)\" d=\"M 0 0 M91.8577 477.125 L110.214 477.125 L110.214 481.06 L96.1401 481.06 L96.1401 489.532 Q97.1586 489.185 98.1771 489.023 Q99.1956 488.838 100.214 488.838 Q106.001 488.838 109.381 492.009 Q112.76 495.18 112.76 500.597 Q112.76 506.176 109.288 509.277 Q105.816 512.356 99.4966 512.356 Q97.3206 512.356 95.0521 511.986 Q92.8068 511.615 90.3994 510.875 L90.3994 506.176 Q92.4827 507.31 94.7049 507.865 Q96.9271 508.421 99.404 508.421 Q103.409 508.421 105.747 506.315 Q108.084 504.208 108.084 500.597 Q108.084 496.986 105.747 494.879 Q103.409 492.773 99.404 492.773 Q97.529 492.773 95.654 493.19 Q93.8021 493.606 91.8577 494.486 L91.8577 477.125 Z\" fill=\"#000000\" fill-rule=\"evenodd\" fill-opacity=\"1\" /><path clip-path=\"url(#clip8300)\" d=\"M 0 0 M78.617 269.738 Q81.9735 270.456 83.8485 272.724 Q85.7466 274.993 85.7466 278.326 Q85.7466 283.442 82.2281 286.243 Q78.7096 289.044 72.2282 289.044 Q70.0523 289.044 67.7375 288.604 Q65.4458 288.187 62.9921 287.331 L62.9921 282.817 Q64.9366 283.951 67.2514 284.53 Q69.5662 285.109 72.0893 285.109 Q76.4874 285.109 78.7791 283.372 Q81.0939 281.636 81.0939 278.326 Q81.0939 275.271 78.9411 273.558 Q76.8115 271.822 72.9921 271.822 L68.9643 271.822 L68.9643 267.979 L73.1773 267.979 Q76.6263 267.979 78.455 266.613 Q80.2837 265.224 80.2837 262.632 Q80.2837 259.97 78.3856 258.558 Q76.5106 257.123 72.9921 257.123 Q71.0708 257.123 68.8717 257.539 Q66.6727 257.956 64.0338 258.836 L64.0338 254.669 Q66.6958 253.928 69.0106 253.558 Q71.3486 253.187 73.4087 253.187 Q78.7328 253.187 81.8346 255.618 Q84.9365 258.025 84.9365 262.146 Q84.9365 265.016 83.2929 267.007 Q81.6494 268.974 78.617 269.738 Z\" fill=\"#000000\" fill-rule=\"evenodd\" fill-opacity=\"1\" /><path clip-path=\"url(#clip8300)\" d=\"M 0 0 M100.816 256.891 Q97.2049 256.891 95.3762 260.456 Q93.5707 263.998 93.5707 271.127 Q93.5707 278.234 95.3762 281.798 Q97.2049 285.34 100.816 285.34 Q104.45 285.34 106.256 281.798 Q108.084 278.234 108.084 271.127 Q108.084 263.998 106.256 260.456 Q104.45 256.891 100.816 256.891 M100.816 253.187 Q106.626 253.187 109.682 257.794 Q112.76 262.377 112.76 271.127 Q112.76 279.854 109.682 284.46 Q106.626 289.044 100.816 289.044 Q95.0058 289.044 91.9272 284.46 Q88.8716 279.854 88.8716 271.127 Q88.8716 262.377 91.9272 257.794 Q95.0058 253.187 100.816 253.187 Z\" fill=\"#000000\" fill-rule=\"evenodd\" fill-opacity=\"1\" /><path clip-path=\"url(#clip8300)\" d=\"M 0 0 M79.6124 46.4259 Q82.9689 47.1435 84.8439 49.412 Q86.742 51.6805 86.742 55.0138 Q86.742 60.1295 83.2235 62.9304 Q79.705 65.7313 73.2236 65.7313 Q71.0476 65.7313 68.7328 65.2915 Q66.4412 64.8749 63.9875 64.0184 L63.9875 59.5045 Q65.9319 60.6388 68.2467 61.2175 Q70.5615 61.7962 73.0847 61.7962 Q77.4828 61.7962 79.7744 60.0601 Q82.0892 58.324 82.0892 55.0138 Q82.0892 51.9583 79.9365 50.2453 Q77.8069 48.5092 73.9874 48.5092 L69.9597 48.5092 L69.9597 44.6666 L74.1726 44.6666 Q77.6217 44.6666 79.4504 43.3009 Q81.2791 41.912 81.2791 39.3194 Q81.2791 36.6574 79.3809 35.2454 Q77.5059 33.8102 73.9874 33.8102 Q72.0662 33.8102 69.8671 34.2269 Q67.668 34.6435 65.0292 35.5232 L65.0292 31.3565 Q67.6912 30.6158 70.006 30.2454 Q72.3439 29.875 74.4041 29.875 Q79.7281 29.875 82.83 32.3056 Q85.9318 34.713 85.9318 38.8333 Q85.9318 41.7037 84.2883 43.6944 Q82.6448 45.662 79.6124 46.4259 Z\" fill=\"#000000\" fill-rule=\"evenodd\" fill-opacity=\"1\" /><path clip-path=\"url(#clip8300)\" d=\"M 0 0 M91.8577 30.5 L110.214 30.5 L110.214 34.4352 L96.1401 34.4352 L96.1401 42.9074 Q97.1586 42.5602 98.1771 42.3981 Q99.1956 42.2129 100.214 42.2129 Q106.001 42.2129 109.381 45.3842 Q112.76 48.5555 112.76 53.9721 Q112.76 59.5508 109.288 62.6526 Q105.816 65.7313 99.4966 65.7313 Q97.3206 65.7313 95.0521 65.361 Q92.8068 64.9906 90.3994 64.2499 L90.3994 59.5508 Q92.4827 60.6851 94.7049 61.2406 Q96.9271 61.7962 99.404 61.7962 Q103.409 61.7962 105.747 59.6897 Q108.084 57.5832 108.084 53.9721 Q108.084 50.361 105.747 48.2546 Q103.409 46.1481 99.404 46.1481 Q97.529 46.1481 95.654 46.5648 Q93.8021 46.9814 91.8577 47.8611 L91.8577 30.5 Z\" fill=\"#000000\" fill-rule=\"evenodd\" fill-opacity=\"1\" /><circle clip-path=\"url(#clip8302)\" cx=\"199.477\" cy=\"673.055\" r=\"14\" fill=\"#009af9\" fill-rule=\"evenodd\" fill-opacity=\"1\" stroke=\"#000000\" stroke-opacity=\"1\" stroke-width=\"3.2\"/>\n",
       "<circle clip-path=\"url(#clip8302)\" cx=\"199.477\" cy=\"1061.62\" r=\"14\" fill=\"#009af9\" fill-rule=\"evenodd\" fill-opacity=\"1\" stroke=\"#000000\" stroke-opacity=\"1\" stroke-width=\"3.2\"/>\n",
       "<circle clip-path=\"url(#clip8302)\" cx=\"199.477\" cy=\"815.975\" r=\"14\" fill=\"#009af9\" fill-rule=\"evenodd\" fill-opacity=\"1\" stroke=\"#000000\" stroke-opacity=\"1\" stroke-width=\"3.2\"/>\n",
       "<circle clip-path=\"url(#clip8302)\" cx=\"199.477\" cy=\"963.361\" r=\"14\" fill=\"#009af9\" fill-rule=\"evenodd\" fill-opacity=\"1\" stroke=\"#000000\" stroke-opacity=\"1\" stroke-width=\"3.2\"/>\n",
       "<circle clip-path=\"url(#clip8302)\" cx=\"199.477\" cy=\"753.447\" r=\"14\" fill=\"#009af9\" fill-rule=\"evenodd\" fill-opacity=\"1\" stroke=\"#000000\" stroke-opacity=\"1\" stroke-width=\"3.2\"/>\n",
       "<circle clip-path=\"url(#clip8302)\" cx=\"199.477\" cy=\"1012.49\" r=\"14\" fill=\"#009af9\" fill-rule=\"evenodd\" fill-opacity=\"1\" stroke=\"#000000\" stroke-opacity=\"1\" stroke-width=\"3.2\"/>\n",
       "<circle clip-path=\"url(#clip8302)\" cx=\"199.477\" cy=\"735.582\" r=\"14\" fill=\"#009af9\" fill-rule=\"evenodd\" fill-opacity=\"1\" stroke=\"#000000\" stroke-opacity=\"1\" stroke-width=\"3.2\"/>\n",
       "<circle clip-path=\"url(#clip8302)\" cx=\"199.477\" cy=\"699.852\" r=\"14\" fill=\"#009af9\" fill-rule=\"evenodd\" fill-opacity=\"1\" stroke=\"#000000\" stroke-opacity=\"1\" stroke-width=\"3.2\"/>\n",
       "<circle clip-path=\"url(#clip8302)\" cx=\"199.477\" cy=\"722.184\" r=\"14\" fill=\"#009af9\" fill-rule=\"evenodd\" fill-opacity=\"1\" stroke=\"#000000\" stroke-opacity=\"1\" stroke-width=\"3.2\"/>\n",
       "<circle clip-path=\"url(#clip8302)\" cx=\"199.477\" cy=\"476.54\" r=\"14\" fill=\"#009af9\" fill-rule=\"evenodd\" fill-opacity=\"1\" stroke=\"#000000\" stroke-opacity=\"1\" stroke-width=\"3.2\"/>\n",
       "<circle clip-path=\"url(#clip8302)\" cx=\"199.477\" cy=\"525.669\" r=\"14\" fill=\"#009af9\" fill-rule=\"evenodd\" fill-opacity=\"1\" stroke=\"#000000\" stroke-opacity=\"1\" stroke-width=\"3.2\"/>\n",
       "<circle clip-path=\"url(#clip8302)\" cx=\"199.477\" cy=\"396.147\" r=\"14\" fill=\"#009af9\" fill-rule=\"evenodd\" fill-opacity=\"1\" stroke=\"#000000\" stroke-opacity=\"1\" stroke-width=\"3.2\"/>\n",
       "<circle clip-path=\"url(#clip8302)\" cx=\"250.969\" cy=\"494.405\" r=\"14\" fill=\"#009af9\" fill-rule=\"evenodd\" fill-opacity=\"1\" stroke=\"#000000\" stroke-opacity=\"1\" stroke-width=\"3.2\"/>\n",
       "<circle clip-path=\"url(#clip8302)\" cx=\"250.969\" cy=\"436.344\" r=\"14\" fill=\"#009af9\" fill-rule=\"evenodd\" fill-opacity=\"1\" stroke=\"#000000\" stroke-opacity=\"1\" stroke-width=\"3.2\"/>\n",
       "<circle clip-path=\"url(#clip8302)\" cx=\"250.969\" cy=\"422.945\" r=\"14\" fill=\"#009af9\" fill-rule=\"evenodd\" fill-opacity=\"1\" stroke=\"#000000\" stroke-opacity=\"1\" stroke-width=\"3.2\"/>\n",
       "<circle clip-path=\"url(#clip8302)\" cx=\"250.969\" cy=\"521.202\" r=\"14\" fill=\"#009af9\" fill-rule=\"evenodd\" fill-opacity=\"1\" stroke=\"#000000\" stroke-opacity=\"1\" stroke-width=\"3.2\"/>\n",
       "<circle clip-path=\"url(#clip8302)\" cx=\"250.969\" cy=\"360.417\" r=\"14\" fill=\"#009af9\" fill-rule=\"evenodd\" fill-opacity=\"1\" stroke=\"#000000\" stroke-opacity=\"1\" stroke-width=\"3.2\"/>\n",
       "<circle clip-path=\"url(#clip8302)\" cx=\"250.969\" cy=\"507.804\" r=\"14\" fill=\"#009af9\" fill-rule=\"evenodd\" fill-opacity=\"1\" stroke=\"#000000\" stroke-opacity=\"1\" stroke-width=\"3.2\"/>\n",
       "<circle clip-path=\"url(#clip8302)\" cx=\"250.969\" cy=\"329.154\" r=\"14\" fill=\"#009af9\" fill-rule=\"evenodd\" fill-opacity=\"1\" stroke=\"#000000\" stroke-opacity=\"1\" stroke-width=\"3.2\"/>\n",
       "<circle clip-path=\"url(#clip8302)\" cx=\"250.969\" cy=\"262.16\" r=\"14\" fill=\"#009af9\" fill-rule=\"evenodd\" fill-opacity=\"1\" stroke=\"#000000\" stroke-opacity=\"1\" stroke-width=\"3.2\"/>\n",
       "<circle clip-path=\"url(#clip8302)\" cx=\"250.969\" cy=\"87.9763\" r=\"14\" fill=\"#009af9\" fill-rule=\"evenodd\" fill-opacity=\"1\" stroke=\"#000000\" stroke-opacity=\"1\" stroke-width=\"3.2\"/>\n",
       "<circle clip-path=\"url(#clip8302)\" cx=\"250.969\" cy=\"338.086\" r=\"14\" fill=\"#009af9\" fill-rule=\"evenodd\" fill-opacity=\"1\" stroke=\"#000000\" stroke-opacity=\"1\" stroke-width=\"3.2\"/>\n",
       "<circle clip-path=\"url(#clip8302)\" cx=\"250.969\" cy=\"347.019\" r=\"14\" fill=\"#009af9\" fill-rule=\"evenodd\" fill-opacity=\"1\" stroke=\"#000000\" stroke-opacity=\"1\" stroke-width=\"3.2\"/>\n",
       "<circle clip-path=\"url(#clip8302)\" cx=\"250.969\" cy=\"378.282\" r=\"14\" fill=\"#009af9\" fill-rule=\"evenodd\" fill-opacity=\"1\" stroke=\"#000000\" stroke-opacity=\"1\" stroke-width=\"3.2\"/>\n",
       "<circle clip-path=\"url(#clip8302)\" cx=\"854.451\" cy=\"1213.47\" r=\"14\" fill=\"#009af9\" fill-rule=\"evenodd\" fill-opacity=\"1\" stroke=\"#000000\" stroke-opacity=\"1\" stroke-width=\"3.2\"/>\n",
       "<circle clip-path=\"url(#clip8302)\" cx=\"854.451\" cy=\"1155.41\" r=\"14\" fill=\"#009af9\" fill-rule=\"evenodd\" fill-opacity=\"1\" stroke=\"#000000\" stroke-opacity=\"1\" stroke-width=\"3.2\"/>\n",
       "<circle clip-path=\"url(#clip8302)\" cx=\"854.451\" cy=\"936.563\" r=\"14\" fill=\"#009af9\" fill-rule=\"evenodd\" fill-opacity=\"1\" stroke=\"#000000\" stroke-opacity=\"1\" stroke-width=\"3.2\"/>\n",
       "<circle clip-path=\"url(#clip8302)\" cx=\"854.451\" cy=\"1083.95\" r=\"14\" fill=\"#009af9\" fill-rule=\"evenodd\" fill-opacity=\"1\" stroke=\"#000000\" stroke-opacity=\"1\" stroke-width=\"3.2\"/>\n",
       "<circle clip-path=\"url(#clip8302)\" cx=\"854.451\" cy=\"1057.15\" r=\"14\" fill=\"#009af9\" fill-rule=\"evenodd\" fill-opacity=\"1\" stroke=\"#000000\" stroke-opacity=\"1\" stroke-width=\"3.2\"/>\n",
       "<circle clip-path=\"url(#clip8302)\" cx=\"854.451\" cy=\"887.435\" r=\"14\" fill=\"#009af9\" fill-rule=\"evenodd\" fill-opacity=\"1\" stroke=\"#000000\" stroke-opacity=\"1\" stroke-width=\"3.2\"/>\n",
       "<circle clip-path=\"url(#clip8302)\" cx=\"854.451\" cy=\"1106.28\" r=\"14\" fill=\"#009af9\" fill-rule=\"evenodd\" fill-opacity=\"1\" stroke=\"#000000\" stroke-opacity=\"1\" stroke-width=\"3.2\"/>\n",
       "<circle clip-path=\"url(#clip8302)\" cx=\"854.451\" cy=\"556.932\" r=\"14\" fill=\"#009af9\" fill-rule=\"evenodd\" fill-opacity=\"1\" stroke=\"#000000\" stroke-opacity=\"1\" stroke-width=\"3.2\"/>\n",
       "<circle clip-path=\"url(#clip8302)\" cx=\"854.451\" cy=\"802.576\" r=\"14\" fill=\"#009af9\" fill-rule=\"evenodd\" fill-opacity=\"1\" stroke=\"#000000\" stroke-opacity=\"1\" stroke-width=\"3.2\"/>\n",
       "<circle clip-path=\"url(#clip8302)\" cx=\"854.451\" cy=\"753.447\" r=\"14\" fill=\"#009af9\" fill-rule=\"evenodd\" fill-opacity=\"1\" stroke=\"#000000\" stroke-opacity=\"1\" stroke-width=\"3.2\"/>\n",
       "<circle clip-path=\"url(#clip8302)\" cx=\"854.451\" cy=\"994.625\" r=\"14\" fill=\"#009af9\" fill-rule=\"evenodd\" fill-opacity=\"1\" stroke=\"#000000\" stroke-opacity=\"1\" stroke-width=\"3.2\"/>\n",
       "<circle clip-path=\"url(#clip8302)\" cx=\"854.451\" cy=\"525.669\" r=\"14\" fill=\"#009af9\" fill-rule=\"evenodd\" fill-opacity=\"1\" stroke=\"#000000\" stroke-opacity=\"1\" stroke-width=\"3.2\"/>\n",
       "<circle clip-path=\"url(#clip8302)\" cx=\"1056.3\" cy=\"1316.19\" r=\"14\" fill=\"#009af9\" fill-rule=\"evenodd\" fill-opacity=\"1\" stroke=\"#000000\" stroke-opacity=\"1\" stroke-width=\"3.2\"/>\n",
       "<circle clip-path=\"url(#clip8302)\" cx=\"1056.3\" cy=\"1124.15\" r=\"14\" fill=\"#009af9\" fill-rule=\"evenodd\" fill-opacity=\"1\" stroke=\"#000000\" stroke-opacity=\"1\" stroke-width=\"3.2\"/>\n",
       "<circle clip-path=\"url(#clip8302)\" cx=\"1056.3\" cy=\"1235.8\" r=\"14\" fill=\"#009af9\" fill-rule=\"evenodd\" fill-opacity=\"1\" stroke=\"#000000\" stroke-opacity=\"1\" stroke-width=\"3.2\"/>\n",
       "<circle clip-path=\"url(#clip8302)\" cx=\"1056.3\" cy=\"1061.62\" r=\"14\" fill=\"#009af9\" fill-rule=\"evenodd\" fill-opacity=\"1\" stroke=\"#000000\" stroke-opacity=\"1\" stroke-width=\"3.2\"/>\n",
       "<circle clip-path=\"url(#clip8302)\" cx=\"1056.3\" cy=\"1173.27\" r=\"14\" fill=\"#009af9\" fill-rule=\"evenodd\" fill-opacity=\"1\" stroke=\"#000000\" stroke-opacity=\"1\" stroke-width=\"3.2\"/>\n",
       "<circle clip-path=\"url(#clip8302)\" cx=\"1056.3\" cy=\"1414.45\" r=\"14\" fill=\"#009af9\" fill-rule=\"evenodd\" fill-opacity=\"1\" stroke=\"#000000\" stroke-opacity=\"1\" stroke-width=\"3.2\"/>\n",
       "<circle clip-path=\"url(#clip8302)\" cx=\"1056.3\" cy=\"1302.8\" r=\"14\" fill=\"#009af9\" fill-rule=\"evenodd\" fill-opacity=\"1\" stroke=\"#000000\" stroke-opacity=\"1\" stroke-width=\"3.2\"/>\n",
       "<circle clip-path=\"url(#clip8302)\" cx=\"1056.3\" cy=\"1155.41\" r=\"14\" fill=\"#009af9\" fill-rule=\"evenodd\" fill-opacity=\"1\" stroke=\"#000000\" stroke-opacity=\"1\" stroke-width=\"3.2\"/>\n",
       "<circle clip-path=\"url(#clip8302)\" cx=\"1056.3\" cy=\"1155.41\" r=\"14\" fill=\"#009af9\" fill-rule=\"evenodd\" fill-opacity=\"1\" stroke=\"#000000\" stroke-opacity=\"1\" stroke-width=\"3.2\"/>\n",
       "<circle clip-path=\"url(#clip8302)\" cx=\"1056.3\" cy=\"1271.53\" r=\"14\" fill=\"#009af9\" fill-rule=\"evenodd\" fill-opacity=\"1\" stroke=\"#000000\" stroke-opacity=\"1\" stroke-width=\"3.2\"/>\n",
       "<circle clip-path=\"url(#clip8302)\" cx=\"1056.3\" cy=\"1204.54\" r=\"14\" fill=\"#009af9\" fill-rule=\"evenodd\" fill-opacity=\"1\" stroke=\"#000000\" stroke-opacity=\"1\" stroke-width=\"3.2\"/>\n",
       "<circle clip-path=\"url(#clip8302)\" cx=\"1056.3\" cy=\"945.496\" r=\"14\" fill=\"#009af9\" fill-rule=\"evenodd\" fill-opacity=\"1\" stroke=\"#000000\" stroke-opacity=\"1\" stroke-width=\"3.2\"/>\n",
       "<circle clip-path=\"url(#clip8302)\" cx=\"1260.21\" cy=\"1351.92\" r=\"14\" fill=\"#009af9\" fill-rule=\"evenodd\" fill-opacity=\"1\" stroke=\"#000000\" stroke-opacity=\"1\" stroke-width=\"3.2\"/>\n",
       "<circle clip-path=\"url(#clip8302)\" cx=\"1260.21\" cy=\"1271.53\" r=\"14\" fill=\"#009af9\" fill-rule=\"evenodd\" fill-opacity=\"1\" stroke=\"#000000\" stroke-opacity=\"1\" stroke-width=\"3.2\"/>\n",
       "<circle clip-path=\"url(#clip8302)\" cx=\"1260.21\" cy=\"1222.4\" r=\"14\" fill=\"#009af9\" fill-rule=\"evenodd\" fill-opacity=\"1\" stroke=\"#000000\" stroke-opacity=\"1\" stroke-width=\"3.2\"/>\n",
       "<circle clip-path=\"url(#clip8302)\" cx=\"1260.21\" cy=\"1186.67\" r=\"14\" fill=\"#009af9\" fill-rule=\"evenodd\" fill-opacity=\"1\" stroke=\"#000000\" stroke-opacity=\"1\" stroke-width=\"3.2\"/>\n",
       "<circle clip-path=\"url(#clip8302)\" cx=\"1260.21\" cy=\"673.055\" r=\"14\" fill=\"#009af9\" fill-rule=\"evenodd\" fill-opacity=\"1\" stroke=\"#000000\" stroke-opacity=\"1\" stroke-width=\"3.2\"/>\n",
       "<circle clip-path=\"url(#clip8302)\" cx=\"1260.21\" cy=\"1155.41\" r=\"14\" fill=\"#009af9\" fill-rule=\"evenodd\" fill-opacity=\"1\" stroke=\"#000000\" stroke-opacity=\"1\" stroke-width=\"3.2\"/>\n",
       "<circle clip-path=\"url(#clip8302)\" cx=\"1260.21\" cy=\"1351.92\" r=\"14\" fill=\"#009af9\" fill-rule=\"evenodd\" fill-opacity=\"1\" stroke=\"#000000\" stroke-opacity=\"1\" stroke-width=\"3.2\"/>\n",
       "<circle clip-path=\"url(#clip8302)\" cx=\"1260.21\" cy=\"1258.13\" r=\"14\" fill=\"#009af9\" fill-rule=\"evenodd\" fill-opacity=\"1\" stroke=\"#000000\" stroke-opacity=\"1\" stroke-width=\"3.2\"/>\n",
       "<circle clip-path=\"url(#clip8302)\" cx=\"1260.21\" cy=\"1155.41\" r=\"14\" fill=\"#009af9\" fill-rule=\"evenodd\" fill-opacity=\"1\" stroke=\"#000000\" stroke-opacity=\"1\" stroke-width=\"3.2\"/>\n",
       "<circle clip-path=\"url(#clip8302)\" cx=\"1260.21\" cy=\"1195.61\" r=\"14\" fill=\"#009af9\" fill-rule=\"evenodd\" fill-opacity=\"1\" stroke=\"#000000\" stroke-opacity=\"1\" stroke-width=\"3.2\"/>\n",
       "<circle clip-path=\"url(#clip8302)\" cx=\"1260.21\" cy=\"1075.02\" r=\"14\" fill=\"#009af9\" fill-rule=\"evenodd\" fill-opacity=\"1\" stroke=\"#000000\" stroke-opacity=\"1\" stroke-width=\"3.2\"/>\n",
       "<circle clip-path=\"url(#clip8302)\" cx=\"1260.21\" cy=\"1128.61\" r=\"14\" fill=\"#009af9\" fill-rule=\"evenodd\" fill-opacity=\"1\" stroke=\"#000000\" stroke-opacity=\"1\" stroke-width=\"3.2\"/>\n",
       "<circle clip-path=\"url(#clip8302)\" cx=\"1472.35\" cy=\"1445.72\" r=\"14\" fill=\"#009af9\" fill-rule=\"evenodd\" fill-opacity=\"1\" stroke=\"#000000\" stroke-opacity=\"1\" stroke-width=\"3.2\"/>\n",
       "<circle clip-path=\"url(#clip8302)\" cx=\"1472.35\" cy=\"1284.93\" r=\"14\" fill=\"#009af9\" fill-rule=\"evenodd\" fill-opacity=\"1\" stroke=\"#000000\" stroke-opacity=\"1\" stroke-width=\"3.2\"/>\n",
       "<circle clip-path=\"url(#clip8302)\" cx=\"1472.35\" cy=\"1365.32\" r=\"14\" fill=\"#009af9\" fill-rule=\"evenodd\" fill-opacity=\"1\" stroke=\"#000000\" stroke-opacity=\"1\" stroke-width=\"3.2\"/>\n",
       "<circle clip-path=\"url(#clip8302)\" cx=\"1472.35\" cy=\"1302.8\" r=\"14\" fill=\"#009af9\" fill-rule=\"evenodd\" fill-opacity=\"1\" stroke=\"#000000\" stroke-opacity=\"1\" stroke-width=\"3.2\"/>\n",
       "<circle clip-path=\"url(#clip8302)\" cx=\"1472.35\" cy=\"1271.53\" r=\"14\" fill=\"#009af9\" fill-rule=\"evenodd\" fill-opacity=\"1\" stroke=\"#000000\" stroke-opacity=\"1\" stroke-width=\"3.2\"/>\n",
       "<circle clip-path=\"url(#clip8302)\" cx=\"1472.35\" cy=\"1316.19\" r=\"14\" fill=\"#009af9\" fill-rule=\"evenodd\" fill-opacity=\"1\" stroke=\"#000000\" stroke-opacity=\"1\" stroke-width=\"3.2\"/>\n",
       "<circle clip-path=\"url(#clip8302)\" cx=\"1472.35\" cy=\"1351.92\" r=\"14\" fill=\"#009af9\" fill-rule=\"evenodd\" fill-opacity=\"1\" stroke=\"#000000\" stroke-opacity=\"1\" stroke-width=\"3.2\"/>\n",
       "<circle clip-path=\"url(#clip8302)\" cx=\"1472.35\" cy=\"1316.19\" r=\"14\" fill=\"#009af9\" fill-rule=\"evenodd\" fill-opacity=\"1\" stroke=\"#000000\" stroke-opacity=\"1\" stroke-width=\"3.2\"/>\n",
       "<circle clip-path=\"url(#clip8302)\" cx=\"1472.35\" cy=\"1396.59\" r=\"14\" fill=\"#009af9\" fill-rule=\"evenodd\" fill-opacity=\"1\" stroke=\"#000000\" stroke-opacity=\"1\" stroke-width=\"3.2\"/>\n",
       "<circle clip-path=\"url(#clip8302)\" cx=\"1472.35\" cy=\"1186.67\" r=\"14\" fill=\"#009af9\" fill-rule=\"evenodd\" fill-opacity=\"1\" stroke=\"#000000\" stroke-opacity=\"1\" stroke-width=\"3.2\"/>\n",
       "<circle clip-path=\"url(#clip8302)\" cx=\"1472.35\" cy=\"1284.93\" r=\"14\" fill=\"#009af9\" fill-rule=\"evenodd\" fill-opacity=\"1\" stroke=\"#000000\" stroke-opacity=\"1\" stroke-width=\"3.2\"/>\n",
       "<circle clip-path=\"url(#clip8302)\" cx=\"1472.35\" cy=\"1204.54\" r=\"14\" fill=\"#009af9\" fill-rule=\"evenodd\" fill-opacity=\"1\" stroke=\"#000000\" stroke-opacity=\"1\" stroke-width=\"3.2\"/>\n",
       "<circle clip-path=\"url(#clip8302)\" cx=\"1680.38\" cy=\"882.968\" r=\"14\" fill=\"#009af9\" fill-rule=\"evenodd\" fill-opacity=\"1\" stroke=\"#000000\" stroke-opacity=\"1\" stroke-width=\"3.2\"/>\n",
       "<circle clip-path=\"url(#clip8302)\" cx=\"1680.38\" cy=\"1271.53\" r=\"14\" fill=\"#009af9\" fill-rule=\"evenodd\" fill-opacity=\"1\" stroke=\"#000000\" stroke-opacity=\"1\" stroke-width=\"3.2\"/>\n",
       "<circle clip-path=\"url(#clip8302)\" cx=\"1680.38\" cy=\"1164.34\" r=\"14\" fill=\"#009af9\" fill-rule=\"evenodd\" fill-opacity=\"1\" stroke=\"#000000\" stroke-opacity=\"1\" stroke-width=\"3.2\"/>\n",
       "<circle clip-path=\"url(#clip8302)\" cx=\"1680.38\" cy=\"972.293\" r=\"14\" fill=\"#009af9\" fill-rule=\"evenodd\" fill-opacity=\"1\" stroke=\"#000000\" stroke-opacity=\"1\" stroke-width=\"3.2\"/>\n",
       "<circle clip-path=\"url(#clip8302)\" cx=\"1680.38\" cy=\"771.312\" r=\"14\" fill=\"#009af9\" fill-rule=\"evenodd\" fill-opacity=\"1\" stroke=\"#000000\" stroke-opacity=\"1\" stroke-width=\"3.2\"/>\n",
       "<circle clip-path=\"url(#clip8302)\" cx=\"1680.38\" cy=\"1075.02\" r=\"14\" fill=\"#009af9\" fill-rule=\"evenodd\" fill-opacity=\"1\" stroke=\"#000000\" stroke-opacity=\"1\" stroke-width=\"3.2\"/>\n",
       "<circle clip-path=\"url(#clip8302)\" cx=\"1680.38\" cy=\"896.367\" r=\"14\" fill=\"#009af9\" fill-rule=\"evenodd\" fill-opacity=\"1\" stroke=\"#000000\" stroke-opacity=\"1\" stroke-width=\"3.2\"/>\n",
       "<circle clip-path=\"url(#clip8302)\" cx=\"1680.38\" cy=\"882.968\" r=\"14\" fill=\"#009af9\" fill-rule=\"evenodd\" fill-opacity=\"1\" stroke=\"#000000\" stroke-opacity=\"1\" stroke-width=\"3.2\"/>\n",
       "<circle clip-path=\"url(#clip8302)\" cx=\"1680.38\" cy=\"722.184\" r=\"14\" fill=\"#009af9\" fill-rule=\"evenodd\" fill-opacity=\"1\" stroke=\"#000000\" stroke-opacity=\"1\" stroke-width=\"3.2\"/>\n",
       "<circle clip-path=\"url(#clip8302)\" cx=\"1680.38\" cy=\"525.669\" r=\"14\" fill=\"#009af9\" fill-rule=\"evenodd\" fill-opacity=\"1\" stroke=\"#000000\" stroke-opacity=\"1\" stroke-width=\"3.2\"/>\n",
       "<circle clip-path=\"url(#clip8302)\" cx=\"1680.38\" cy=\"673.055\" r=\"14\" fill=\"#009af9\" fill-rule=\"evenodd\" fill-opacity=\"1\" stroke=\"#000000\" stroke-opacity=\"1\" stroke-width=\"3.2\"/>\n",
       "<circle clip-path=\"url(#clip8302)\" cx=\"1680.38\" cy=\"686.454\" r=\"14\" fill=\"#009af9\" fill-rule=\"evenodd\" fill-opacity=\"1\" stroke=\"#000000\" stroke-opacity=\"1\" stroke-width=\"3.2\"/>\n",
       "<circle clip-path=\"url(#clip8302)\" cx=\"2069.65\" cy=\"686.454\" r=\"14\" fill=\"#009af9\" fill-rule=\"evenodd\" fill-opacity=\"1\" stroke=\"#000000\" stroke-opacity=\"1\" stroke-width=\"3.2\"/>\n",
       "<circle clip-path=\"url(#clip8302)\" cx=\"2069.65\" cy=\"833.84\" r=\"14\" fill=\"#009af9\" fill-rule=\"evenodd\" fill-opacity=\"1\" stroke=\"#000000\" stroke-opacity=\"1\" stroke-width=\"3.2\"/>\n",
       "<circle clip-path=\"url(#clip8302)\" cx=\"2069.65\" cy=\"945.496\" r=\"14\" fill=\"#009af9\" fill-rule=\"evenodd\" fill-opacity=\"1\" stroke=\"#000000\" stroke-opacity=\"1\" stroke-width=\"3.2\"/>\n",
       "<circle clip-path=\"url(#clip8302)\" cx=\"2069.65\" cy=\"802.576\" r=\"14\" fill=\"#009af9\" fill-rule=\"evenodd\" fill-opacity=\"1\" stroke=\"#000000\" stroke-opacity=\"1\" stroke-width=\"3.2\"/>\n",
       "<circle clip-path=\"url(#clip8302)\" cx=\"2069.65\" cy=\"494.405\" r=\"14\" fill=\"#009af9\" fill-rule=\"evenodd\" fill-opacity=\"1\" stroke=\"#000000\" stroke-opacity=\"1\" stroke-width=\"3.2\"/>\n",
       "<circle clip-path=\"url(#clip8302)\" cx=\"2069.65\" cy=\"556.932\" r=\"14\" fill=\"#009af9\" fill-rule=\"evenodd\" fill-opacity=\"1\" stroke=\"#000000\" stroke-opacity=\"1\" stroke-width=\"3.2\"/>\n",
       "<circle clip-path=\"url(#clip8302)\" cx=\"2069.65\" cy=\"512.27\" r=\"14\" fill=\"#009af9\" fill-rule=\"evenodd\" fill-opacity=\"1\" stroke=\"#000000\" stroke-opacity=\"1\" stroke-width=\"3.2\"/>\n",
       "<circle clip-path=\"url(#clip8302)\" cx=\"2069.65\" cy=\"445.276\" r=\"14\" fill=\"#009af9\" fill-rule=\"evenodd\" fill-opacity=\"1\" stroke=\"#000000\" stroke-opacity=\"1\" stroke-width=\"3.2\"/>\n",
       "<circle clip-path=\"url(#clip8302)\" cx=\"2069.65\" cy=\"592.662\" r=\"14\" fill=\"#009af9\" fill-rule=\"evenodd\" fill-opacity=\"1\" stroke=\"#000000\" stroke-opacity=\"1\" stroke-width=\"3.2\"/>\n",
       "<circle clip-path=\"url(#clip8302)\" cx=\"2069.65\" cy=\"592.662\" r=\"14\" fill=\"#009af9\" fill-rule=\"evenodd\" fill-opacity=\"1\" stroke=\"#000000\" stroke-opacity=\"1\" stroke-width=\"3.2\"/>\n",
       "<circle clip-path=\"url(#clip8302)\" cx=\"2069.65\" cy=\"606.061\" r=\"14\" fill=\"#009af9\" fill-rule=\"evenodd\" fill-opacity=\"1\" stroke=\"#000000\" stroke-opacity=\"1\" stroke-width=\"3.2\"/>\n",
       "<circle clip-path=\"url(#clip8302)\" cx=\"2069.65\" cy=\"592.662\" r=\"14\" fill=\"#009af9\" fill-rule=\"evenodd\" fill-opacity=\"1\" stroke=\"#000000\" stroke-opacity=\"1\" stroke-width=\"3.2\"/>\n",
       "<circle clip-path=\"url(#clip8302)\" cx=\"2290.04\" cy=\"815.975\" r=\"14\" fill=\"#009af9\" fill-rule=\"evenodd\" fill-opacity=\"1\" stroke=\"#000000\" stroke-opacity=\"1\" stroke-width=\"3.2\"/>\n",
       "<circle clip-path=\"url(#clip8302)\" cx=\"2290.04\" cy=\"757.913\" r=\"14\" fill=\"#009af9\" fill-rule=\"evenodd\" fill-opacity=\"1\" stroke=\"#000000\" stroke-opacity=\"1\" stroke-width=\"3.2\"/>\n",
       "<circle clip-path=\"url(#clip8302)\" cx=\"2290.04\" cy=\"623.926\" r=\"14\" fill=\"#009af9\" fill-rule=\"evenodd\" fill-opacity=\"1\" stroke=\"#000000\" stroke-opacity=\"1\" stroke-width=\"3.2\"/>\n",
       "<circle clip-path=\"url(#clip8302)\" cx=\"2290.04\" cy=\"815.975\" r=\"14\" fill=\"#009af9\" fill-rule=\"evenodd\" fill-opacity=\"1\" stroke=\"#000000\" stroke-opacity=\"1\" stroke-width=\"3.2\"/>\n",
       "<circle clip-path=\"url(#clip8302)\" cx=\"2290.04\" cy=\"105.841\" r=\"14\" fill=\"#009af9\" fill-rule=\"evenodd\" fill-opacity=\"1\" stroke=\"#000000\" stroke-opacity=\"1\" stroke-width=\"3.2\"/>\n",
       "<circle clip-path=\"url(#clip8302)\" cx=\"2290.04\" cy=\"704.319\" r=\"14\" fill=\"#009af9\" fill-rule=\"evenodd\" fill-opacity=\"1\" stroke=\"#000000\" stroke-opacity=\"1\" stroke-width=\"3.2\"/>\n",
       "<circle clip-path=\"url(#clip8302)\" cx=\"2290.04\" cy=\"525.669\" r=\"14\" fill=\"#009af9\" fill-rule=\"evenodd\" fill-opacity=\"1\" stroke=\"#000000\" stroke-opacity=\"1\" stroke-width=\"3.2\"/>\n",
       "<circle clip-path=\"url(#clip8302)\" cx=\"2290.04\" cy=\"302.356\" r=\"14\" fill=\"#009af9\" fill-rule=\"evenodd\" fill-opacity=\"1\" stroke=\"#000000\" stroke-opacity=\"1\" stroke-width=\"3.2\"/>\n",
       "<circle clip-path=\"url(#clip8302)\" cx=\"2290.04\" cy=\"592.662\" r=\"14\" fill=\"#009af9\" fill-rule=\"evenodd\" fill-opacity=\"1\" stroke=\"#000000\" stroke-opacity=\"1\" stroke-width=\"3.2\"/>\n",
       "<circle clip-path=\"url(#clip8302)\" cx=\"2290.04\" cy=\"221.964\" r=\"14\" fill=\"#009af9\" fill-rule=\"evenodd\" fill-opacity=\"1\" stroke=\"#000000\" stroke-opacity=\"1\" stroke-width=\"3.2\"/>\n",
       "<circle clip-path=\"url(#clip8302)\" cx=\"2290.04\" cy=\"123.706\" r=\"14\" fill=\"#009af9\" fill-rule=\"evenodd\" fill-opacity=\"1\" stroke=\"#000000\" stroke-opacity=\"1\" stroke-width=\"3.2\"/>\n",
       "<circle clip-path=\"url(#clip8302)\" cx=\"2290.04\" cy=\"204.099\" r=\"14\" fill=\"#009af9\" fill-rule=\"evenodd\" fill-opacity=\"1\" stroke=\"#000000\" stroke-opacity=\"1\" stroke-width=\"3.2\"/>\n",
       "</svg>\n"
      ]
     },
     "execution_count": 91,
     "metadata": {},
     "output_type": "execute_result"
    }
   ],
   "source": [
    "q = (\n",
    "\"SELECT MeasurementDate,Moisture1\n",
    " FROM SoilMoisture \n",
    " WHERE Warming = 'W' and\n",
    "       Clipping = 'Yes' and \n",
    "       MeasurementDate >=20200100 and \n",
    "       MeasurementDate <=20201230 \")\n",
    "\n",
    "df = DataFrame(SQLite.DBInterface.execute(NWS,q))\n",
    "\n",
    "x = df.MeasurementDate\n",
    "y = df.Moisture1\n",
    "scatter(x, y, legend=false)\n"
   ]
  },
  {
   "cell_type": "code",
   "execution_count": 33,
   "id": "4714105a",
   "metadata": {
    "slideshow": {
     "slide_type": "skip"
    }
   },
   "outputs": [
    {
     "data": {
      "text/plain": [
       "\"test1.csv\""
      ]
     },
     "execution_count": 33,
     "metadata": {},
     "output_type": "execute_result"
    }
   ],
   "source": [
    "## -- how to filter data using multiple search condition\n",
    "\n",
    "q = (\n",
    "\"SELECT Moisture1,Moisture2,Moisture3 \n",
    " FROM SoilMoisture \n",
    " WHERE Warming = 'W' and\n",
    "       Clipping = 'Yes' and \n",
    "       MeasurementDate >=20200200 and \n",
    "       MeasurementDate <=20200230 \")\n",
    "\n",
    "df = DataFrame(SQLite.DBInterface.execute(NWS,q))\n",
    "\n",
    "\n",
    "CSV.write(\"test1.csv\", df)"
   ]
  },
  {
   "cell_type": "code",
   "execution_count": 18,
   "id": "d99c7e2a",
   "metadata": {
    "slideshow": {
     "slide_type": "skip"
    }
   },
   "outputs": [],
   "source": [
    "## drop a table from db\n",
    "\n",
    "table_id = \"SoilRespiration\"\n",
    "SQLite.drop!(NWS, table_id)\n",
    "# SQLite.drop!(NWS, \"SoilMoisture\")"
   ]
  },
  {
   "cell_type": "markdown",
   "id": "45ff724c",
   "metadata": {
    "slideshow": {
     "slide_type": "slide"
    }
   },
   "source": [
    "## Merge tables and download as csv file"
   ]
  },
  {
   "cell_type": "code",
   "execution_count": 35,
   "id": "75dbd315",
   "metadata": {
    "slideshow": {
     "slide_type": "fragment"
    }
   },
   "outputs": [
    {
     "name": "stdout",
     "output_type": "stream",
     "text": [
      "\u001b[1m12×19 DataFrame\u001b[0m\n",
      "\u001b[1m Row \u001b[0m│\u001b[1m DeepShallow \u001b[0m\u001b[1m PlotID \u001b[0m\u001b[1m Side   \u001b[0m\u001b[1m Samples \u001b[0m\u001b[1m Warming \u001b[0m\u001b[1m Precipitation \u001b[0m\u001b[1m Clipping \u001b[0m\u001b[1m MeasurementDate \u001b[0m\u001b[1m SoilRespiration \u001b[0m\u001b[1m PlotID_1 \u001b[0m\u001b[1m Side_1 \u001b[0m\u001b[1m Warming_1 \u001b[0m\u001b[1m Precipitation_1 \u001b[0m\u001b[1m Clipping_1 \u001b[0m\u001b[1m Samples_1     \u001b[0m\u001b[1m MeasurementDate_1 \u001b[0m\u001b[1m Moisture1 \u001b[0m\u001b[1m Moisture2 \u001b[0m\u001b[1m Moisture3 \u001b[0m\n",
      "\u001b[1m     \u001b[0m│\u001b[90m String      \u001b[0m\u001b[90m Int64  \u001b[0m\u001b[90m String \u001b[0m\u001b[90m String  \u001b[0m\u001b[90m String  \u001b[0m\u001b[90m String        \u001b[0m\u001b[90m String   \u001b[0m\u001b[90m Int64           \u001b[0m\u001b[90m Float64         \u001b[0m\u001b[90m Int64    \u001b[0m\u001b[90m String \u001b[0m\u001b[90m String    \u001b[0m\u001b[90m String          \u001b[0m\u001b[90m String     \u001b[0m\u001b[90m String        \u001b[0m\u001b[90m Int64             \u001b[0m\u001b[90m Float64   \u001b[0m\u001b[90m Float64   \u001b[0m\u001b[90m Float64   \u001b[0m\n",
      "─────┼───────────────────────────────────────────────────────────────────────────────────────────────────────────────────────────────────────────────────────────────────────────────────────────────────────────────────────────────────────\n",
      "   1 │ s                 1  south   1ss      W        C              Yes              20200202             5.63         1  south   W          C                Yes         X22_1S_H_C_1            20200202       21.0       26.4       21.0\n",
      "   2 │ s                 2  south   2ss      W        H              Yes              20200202             5.59         2  south   W          H                Yes         X22_2S_H_C_0            20200202       12.3       15.6       14.2\n",
      "   3 │ s                 4  south   4ss      W        D              Yes              20200202             4.65         4  south   W          D                Yes         X22_4S_H_C_2            20200202       17.8       21.0       29.7\n",
      "   4 │ s                 5  south   5ss      W        H              Yes              20200202             5.14         5  south   W          H                Yes         X22_5S_H_C_0            20200202       14.5       16.3       17.0\n",
      "   5 │ s                 7  south   7ss      W        D              Yes              20200202             5.18         7  south   W          D                Yes         X22_7S_H_C_2            20200202       19.2       17.4       22.1\n",
      "   6 │ s                10  south   10ss     W        C              Yes              20200202             5.08        10  south   W          C                Yes         X22_10S_H_C_1           20200202       13.4       17.8       18.5\n",
      "   7 │ s                15  south   15ss     W        H              Yes              20200202             4.12        15  south   W          H                Yes         X22_15S_H_C_0           20200202       19.6       12.3       14.2\n",
      "   8 │ s                16  south   16ss     W        C              Yes              20200202             2.15        16  south   W          C                Yes         X22_16S_H_C_1           20200202       20.4       26.1       26.4\n",
      "   9 │ s                18  south   18ss     W        H              Yes              20200202             4.07        18  south   W          H                Yes         X22_18S_H_C_0           20200202       19.9       20.3       20.3\n",
      "  10 │ s                20  south   20ss     W        C              Yes              20200202             2.76        20  south   W          C                Yes         X22_20S_H_C_1           20200202       25.4       20.3       25.0\n",
      "  11 │ s                21  south   21ss     W        D              Yes              20200202             5.21        21  south   W          D                Yes         X22_21S_H_C_2           20200202       24.3       30.4       23.9\n",
      "  12 │ s                22  south   22ss     W        D              Yes              20200202             3.83        22  south   W          D                Yes         X22_22S_H_C_2           20200202       27.2       28.3       25.4"
     ]
    }
   ],
   "source": [
    "q = \"SELECT * \n",
    "    FROM SoilRespiration SR \n",
    "    JOIN SoilMoisture SM \n",
    "    ON SR.PlotID = SM.PlotID and SR.MeasurementDate = SM.MeasurementDate\n",
    "    WHERE SR.Warming = 'W' and SR.Clipping = 'Yes' and SR.DeepShallow = 's'  \n",
    "    and SR.MeasurementDate = 20200202\n",
    "    and SM.Warming = 'W' and SM.Clipping = 'Yes' and SR.MeasurementDate = 20200202\" \n",
    "\n",
    "df = DataFrame(SQLite.DBInterface.execute(NWS,q))\n",
    "show(df,allcols=true)\n",
    "CSV.write(\"test2.csv\", df)"
   ]
  },
  {
   "cell_type": "markdown",
   "id": "6bc49305",
   "metadata": {
    "slideshow": {
     "slide_type": "slide"
    }
   },
   "source": [
    "## Merge part of the tables"
   ]
  },
  {
   "cell_type": "code",
   "execution_count": 92,
   "id": "7459fd80",
   "metadata": {
    "slideshow": {
     "slide_type": "fragment"
    }
   },
   "outputs": [
    {
     "name": "stdout",
     "output_type": "stream",
     "text": [
      "\u001b[1m12×7 DataFrame\u001b[0m\n",
      "\u001b[1m Row \u001b[0m│\u001b[1m Warming \u001b[0m\u001b[1m Precipitation \u001b[0m\u001b[1m Clipping \u001b[0m\u001b[1m SoilRespiration \u001b[0m\u001b[1m Moisture1 \u001b[0m\u001b[1m Moisture2 \u001b[0m\u001b[1m Moisture3 \u001b[0m\n",
      "\u001b[1m     \u001b[0m│\u001b[90m String  \u001b[0m\u001b[90m String        \u001b[0m\u001b[90m String   \u001b[0m\u001b[90m Float64         \u001b[0m\u001b[90m Float64   \u001b[0m\u001b[90m Float64   \u001b[0m\u001b[90m Float64   \u001b[0m\n",
      "─────┼────────────────────────────────────────────────────────────────────────────────────\n",
      "   1 │ W        C              Yes                  5.63       21.0       26.4       21.0\n",
      "   2 │ W        H              Yes                  5.59       12.3       15.6       14.2\n",
      "   3 │ W        D              Yes                  4.65       17.8       21.0       29.7\n",
      "   4 │ W        H              Yes                  5.14       14.5       16.3       17.0\n",
      "   5 │ W        D              Yes                  5.18       19.2       17.4       22.1\n",
      "   6 │ W        C              Yes                  5.08       13.4       17.8       18.5\n",
      "   7 │ W        H              Yes                  4.12       19.6       12.3       14.2\n",
      "   8 │ W        C              Yes                  2.15       20.4       26.1       26.4\n",
      "   9 │ W        H              Yes                  4.07       19.9       20.3       20.3\n",
      "  10 │ W        C              Yes                  2.76       25.4       20.3       25.0\n",
      "  11 │ W        D              Yes                  5.21       24.3       30.4       23.9\n",
      "  12 │ W        D              Yes                  3.83       27.2       28.3       25.4"
     ]
    }
   ],
   "source": [
    "q= \"SELECT \n",
    "    SR.Warming,SR.Precipitation,SR.Clipping,SR.SoilRespiration, \n",
    "    SM.Moisture1,SM.Moisture2,SM.Moisture3\n",
    "    FROM SoilRespiration SR \n",
    "    JOIN SoilMoisture SM \n",
    "    ON SR.PlotID = SM.PlotID and SR.MeasurementDate = SM.MeasurementDate\n",
    "    WHERE SR.Warming = 'W' and SR.Clipping = 'Yes' and SR.DeepShallow = 's'  \n",
    "    and SR.MeasurementDate = 20200202\n",
    "    and SM.Warming = 'W' and SM.Clipping = 'Yes' and SR.MeasurementDate = 20200202\"\n",
    "\n",
    "df = DataFrame(SQLite.DBInterface.execute(NWS,q))\n",
    "show(df,allcols=true)\n"
   ]
  },
  {
   "cell_type": "code",
   "execution_count": null,
   "id": "c2ad1d24",
   "metadata": {
    "slideshow": {
     "slide_type": "slide"
    }
   },
   "outputs": [],
   "source": [
    "##* create a table by copying selected columns from multiple tables\n",
    "q2 = \"CREATE TABLE test6 AS\n",
    "    SELECT \n",
    "    SR.Warming,SR.Precipitation,SR.Clipping,SR.SoilRespiration, \n",
    "    SM.Moisture1,SM.Moisture2,SM.Moisture3\n",
    "    FROM SoilRespiration SR \n",
    "    JOIN SoilMoisture SM \n",
    "    ON SR.PlotID = SM.PlotID and SR.MeasurementDate = SM.MeasurementDate\n",
    "    WHERE SR.Warming = 'W' and SR.Clipping = 'Yes' and SR.DeepShallow = 's'  \n",
    "    and SR.MeasurementDate = 20200202\n",
    "    and SM.Warming = 'W' and SM.Clipping = 'Yes' and SR.MeasurementDate = 20200202\"\n",
    "\n",
    "SQLite.DBInterface.execute(NWS,q2)"
   ]
  },
  {
   "cell_type": "code",
   "execution_count": null,
   "id": "8f3e41ad",
   "metadata": {},
   "outputs": [],
   "source": [
    "https://epar.shinyapps.io/godan_app/ "
   ]
  },
  {
   "cell_type": "code",
   "execution_count": null,
   "id": "992b4758",
   "metadata": {},
   "outputs": [],
   "source": [
    "##* create a table by joining tables\n",
    "\n",
    "SQLite.DBInterface.execute(NWS,\n",
    "   \"CREATE TABLE test4 AS\n",
    "    SELECT * \n",
    "    FROM SoilRespiration SR \n",
    "    JOIN SoilMoisture SM \n",
    "    ON SR.PlotID = SM.PlotID and SR.MeasurementDate = SM.MeasurementDate\n",
    "    WHERE SR.Warming = 'W' and SR.Clipping = 'Yes' and SR.DeepShallow = 's'  \n",
    "    and SR.MeasurementDate = 20200202\n",
    "    and SM.Warming = 'W' and SM.Clipping = 'Yes' and SR.MeasurementDate = 20200202\"\n",
    ")\n"
   ]
  }
 ],
 "metadata": {
  "celltoolbar": "Slideshow",
  "kernelspec": {
   "display_name": "Julia 1.8.3",
   "language": "julia",
   "name": "julia-1.8"
  },
  "language_info": {
   "file_extension": ".jl",
   "mimetype": "application/julia",
   "name": "julia",
   "version": "1.7.1"
  }
 },
 "nbformat": 4,
 "nbformat_minor": 5
}
